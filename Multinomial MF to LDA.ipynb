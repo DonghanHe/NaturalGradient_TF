{
 "cells": [
  {
   "cell_type": "code",
   "execution_count": 1,
   "metadata": {
    "collapsed": true
   },
   "outputs": [],
   "source": [
    "import tensorflow as tf\n",
    "import tensorflow_probability as tfp\n",
    "import numpy as np\n",
    "import matplotlib.pyplot as plt\n",
    "%matplotlib inline\n",
    "tfd = tfp.distributions\n",
    "from tqdm import tqdm_notebook as tqdm, trange"
   ]
  },
  {
   "cell_type": "code",
   "execution_count": 3,
   "metadata": {
    "collapsed": false
   },
   "outputs": [],
   "source": [
    "with open('hw4_data/nyt_data.txt') as f:\n",
    "    raw_file = f.readlines()\n",
    "\n",
    "word_to_id = {}\n",
    "id_to_word = {}\n",
    "\n",
    "usa = open('hw4_data/nyt_vocab.dat')\n",
    "counter = 0\n",
    "for line in usa:\n",
    "    word = line.strip()\n",
    "    word_to_id[word] = counter\n",
    "    id_to_word[counter] = word\n",
    "    counter+=1\n",
    "    \n",
    "word_list = []\n",
    "count_list = []\n",
    "\n",
    "for _,doc in enumerate(raw_file):\n",
    "    words = doc.strip().split(',')\n",
    "    w_l = []\n",
    "    c_l = []\n",
    "    \n",
    "    for vocab in words:\n",
    "        ind, num = vocab.split(':')\n",
    "        w_l.append(int(ind)-1)\n",
    "        c_l.append(int(num))\n",
    "    \n",
    "    word_list.append(w_l)\n",
    "    count_list.append(c_l)"
   ]
  },
  {
   "cell_type": "code",
   "execution_count": 4,
   "metadata": {
    "collapsed": false
   },
   "outputs": [
    {
     "data": {
      "text/plain": [
       "163"
      ]
     },
     "execution_count": 4,
     "metadata": {},
     "output_type": "execute_result"
    }
   ],
   "source": [
    "len(word_list[0])"
   ]
  },
  {
   "cell_type": "code",
   "execution_count": 5,
   "metadata": {
    "collapsed": false
   },
   "outputs": [
    {
     "name": "stdout",
     "output_type": "stream",
     "text": [
      "indices start from 0: True\n"
     ]
    }
   ],
   "source": [
    "there_is_0 = False\n",
    "\n",
    "for l in word_list:\n",
    "    if min(l) == 0:\n",
    "        there_is_0 = True\n",
    "        break\n",
    "        \n",
    "print('indices start from 0: {}'.format(there_is_0))"
   ]
  },
  {
   "cell_type": "code",
   "execution_count": 6,
   "metadata": {
    "collapsed": true
   },
   "outputs": [],
   "source": [
    "padded_words = tf.keras.preprocessing.sequence.pad_sequences(word_list, padding = 'post', value = 0)\n",
    "padded_counts = tf.keras.preprocessing.sequence.pad_sequences(count_list, padding = 'post', value = 0)"
   ]
  },
  {
   "cell_type": "code",
   "execution_count": 7,
   "metadata": {
    "collapsed": true
   },
   "outputs": [],
   "source": [
    "T = 30\n",
    "D = len(word_list)\n",
    "V = len(word_to_id)\n",
    "d_logits = tf.Variable(tf.initializers.GlorotUniform()((D, T)))\n",
    "t_logits = tf.Variable(tf.initializers.GlorotUniform()((T, V)))\n",
    "opt = tf.optimizers.Adam(1e-2)"
   ]
  },
  {
   "cell_type": "code",
   "execution_count": 8,
   "metadata": {
    "collapsed": true
   },
   "outputs": [],
   "source": [
    "def calculate_doc_probs(d_logits, t_logits):\n",
    "    res = tf.math.softmax(d_logits, axis = -1)@tf.math.softmax(t_logits, axis = -1)\n",
    "    return res"
   ]
  },
  {
   "cell_type": "code",
   "execution_count": 9,
   "metadata": {
    "collapsed": false
   },
   "outputs": [
    {
     "name": "stdout",
     "output_type": "stream",
     "text": [
      "\n"
     ]
    }
   ],
   "source": [
    "epochs = 1000\n",
    "loss_records = []\n",
    "tqdm_range = tqdm(range(epochs))\n",
    "\n",
    "for e in tqdm_range:\n",
    "    with tf.GradientTape() as tape:\n",
    "        prob_mat = calculate_doc_probs(d_logits, t_logits)\n",
    "        lp = tf.math.log(tf.gather(prob_mat, padded_words, axis=1, batch_dims=1))\n",
    "        sum_lp = padded_counts * lp\n",
    "        \n",
    "        loss = -tf.reduce_mean(sum_lp, axis = 0)\n",
    "    \n",
    "    grads = tape.gradient(loss, [d_logits, t_logits])\n",
    "    opt.apply_gradients(zip(grads, [d_logits, t_logits]))\n",
    "    loss_records.append(tf.reduce_sum(loss))\n",
    "    tqdm_range.set_description(\"{:.2f}\".format(tf.reduce_sum(loss).numpy()), refresh = True)"
   ]
  },
  {
   "cell_type": "code",
   "execution_count": 10,
   "metadata": {
    "collapsed": true
   },
   "outputs": [],
   "source": [
    "def get_top_words_per_topic(topics, top_k = 20):\n",
    "    # doesn't matter they are logits or not.. exp is a monotonic function\n",
    "    top_words = tf.argsort(-topics, axis = -1)[:, :top_k]\n",
    "    \n",
    "    for t in range(topics.shape[0]):\n",
    "        print('* topic {} *'.format(t))\n",
    "        print([id_to_word[i.numpy()] for i in top_words[t, :]])"
   ]
  },
  {
   "cell_type": "code",
   "execution_count": 11,
   "metadata": {
    "collapsed": false
   },
   "outputs": [
    {
     "name": "stdout",
     "output_type": "stream",
     "text": [
      "* topic 0 *\n",
      "['city', 'local', 'community', 'resident', 'plan', 'area', 'office', 'building', 'live', 'project']\n",
      "* topic 1 *\n",
      "['system', 'number', 'program', 'require', 'test', 'problem', 'percent', 'result', 'study', 'standard']\n",
      "* topic 2 *\n",
      "['law', 'court', 'case', 'lawyer', 'legal', 'judge', 'rule', 'state', 'issue', 'decision']\n",
      "* topic 3 *\n",
      "['company', 'share', 'sell', 'business', 'executive', 'stock', 'buy', 'market', 'sale', 'percent']\n",
      "* topic 4 *\n",
      "['school', 'student', 'child', 'class', 'college', 'teacher', 'program', 'attend', 'member', 'education']\n",
      "* topic 5 *\n",
      "['team', 'player', 'game', 'play', 'season', 'coach', 'sport', 'baseball', 'guy', 'league']\n",
      "* topic 6 *\n",
      "['food', 'serve', 'restaurant', 'taste', 'fresh', 'cook', 'eat', 'add', 'chicken', 'cup']\n",
      "* topic 7 *\n",
      "['hit', 'thing', 'put', 'start', 'keep', 'little', 'feel', 'throw', 'pitch', 'hard']\n",
      "* topic 8 *\n",
      "['art', 'artist', 'collection', 'museum', 'design', 'photograph', 'exhibition', 'image', 'color', 'painting']\n",
      "* topic 9 *\n",
      "['fast', 'track', 'machine', 'race', 'speed', 'card', 'natural', 'car', 'ride', 'drive']\n",
      "* topic 10 *\n",
      "['world', 'country', 'change', 'american', 'big', 'business', 'large', 'industry', 'nation', 'far']\n",
      "* topic 11 *\n",
      "['life', 'book', 'write', 'family', 'man', 'live', 'world', 'great', 'read', 'author']\n",
      "* topic 12 *\n",
      "['travel', 'plane', 'fly', 'flight', 'hour', 'train', 'bus', 'trip', 'traffic', 'air']\n",
      "* topic 13 *\n",
      "['doctor', 'health', 'drug', 'medical', 'patient', 'study', 'treatment', 'cause', 'research', 'scientist']\n",
      "* topic 14 *\n",
      "['police', 'kill', 'officer', 'fire', 'man', 'attack', 'shoot', 'gun', 'victim', 'official']\n",
      "* topic 15 *\n",
      "['store', 'sell', 'price', 'sale', 'buy', 'product', 'market', 'industry', 'company', 'customer']\n",
      "* topic 16 *\n",
      "['building', 'build', 'water', 'foot', 'park', 'site', 'house', 'land', 'plant', 'area']\n",
      "* topic 17 *\n",
      "['political', 'campaign', 'vote', 'election', 'party', 'candidate', 'republican', 'leader', 'democratic', 'support']\n",
      "* topic 18 *\n",
      "['charge', 'case', 'crime', 'prison', 'trial', 'arrest', 'prosecutor', 'criminal', 'sentence', 'lawyer']\n",
      "* topic 19 *\n",
      "['win', 'second', 'game', 'victory', 'play', 'score', 'point', 'third', 'team', 'final']\n",
      "* topic 20 *\n",
      "['father', 'mrs', 'son', 'graduate', 'daughter', 'president', 'mother', 'retire', 'marry', 'degree']\n",
      "* topic 21 *\n",
      "['woman', 'life', 'feel', 'tell', 'young', 'boy', 'girl', 'child', 'happen', 'sex']\n",
      "* topic 22 *\n",
      "['wear', 'man', 'woman', 'room', 'night', 'ask', 'little', 'dress', 'tell', 'sit']\n",
      "* topic 23 *\n",
      "['official', 'report', 'member', 'committee', 'agency', 'investigation', 'commission', 'staff', 'public', 'office']\n",
      "* topic 24 *\n",
      "['government', 'states', 'american', 'military', 'country', 'war', 'official', 'leader', 'force', 'peace']\n",
      "* topic 25 *\n",
      "['pay', 'money', 'tax', 'budget', 'bill', 'state', 'cost', 'cut', 'program', 'plan']\n",
      "* topic 26 *\n",
      "['contract', 'union', 'yesterday', 'deal', 'announce', 'sign', 'agreement', 'labor', 'president', 'negotiation']\n",
      "* topic 27 *\n",
      "['percent', 'rate', 'rise', 'market', 'price', 'fall', 'report', 'increase', 'decline', 'low']\n",
      "* topic 28 *\n",
      "['editor', 'television', 'article', 'computer', 'news', 'network', 'site', 'medium', 'internet', 'magazine']\n",
      "* topic 29 *\n",
      "['music', 'play', 'film', 'performance', 'production', 'audience', 'theater', 'stage', 'song', 'director']\n"
     ]
    }
   ],
   "source": [
    "get_top_words_per_topic(t_logits, top_k=10)"
   ]
  },
  {
   "cell_type": "code",
   "execution_count": 12,
   "metadata": {
    "collapsed": false
   },
   "outputs": [
    {
     "data": {
      "image/png": "[encoded data removed]",
      "text/plain": [
       "<matplotlib.figure.Figure at 0x7ff9f95280f0>"
      ]
     },
     "metadata": {},
     "output_type": "display_data"
    }
   ],
   "source": [
    "plt.hist(t_logits.numpy().flatten(), bins = 300)\n",
    "plt.show()"
   ]
  },
  {
   "cell_type": "markdown",
   "metadata": {},
   "source": [
    "### Original LDA (unsmoothed)"
   ]
  },
  {
   "cell_type": "code",
   "execution_count": 13,
   "metadata": {
    "collapsed": true
   },
   "outputs": [],
   "source": [
    "T = 30\n",
    "D = len(word_list)\n",
    "V = len(word_to_id)\n",
    "d_logits = tf.Variable(tf.initializers.GlorotUniform()((D, T)))\n",
    "t_logits = tf.Variable(tf.initializers.GlorotUniform()((T, V)))\n",
    "opt = tf.optimizers.Adam(1e-2)\n",
    "theta_prior = 1.0\n",
    "\n",
    "d_prior = tfd.Dirichlet(tf.ones((T, )) * theta_prior)"
   ]
  },
  {
   "cell_type": "code",
   "execution_count": 14,
   "metadata": {
    "collapsed": true
   },
   "outputs": [],
   "source": [
    "def calculate_doc_probs2(d_probs, t_logits):\n",
    "    res = d_probs@tf.math.softmax(t_logits, axis = -1)\n",
    "    return res"
   ]
  },
  {
   "cell_type": "code",
   "execution_count": 15,
   "metadata": {
    "collapsed": false
   },
   "outputs": [
    {
     "name": "stdout",
     "output_type": "stream",
     "text": [
      "\n"
     ]
    }
   ],
   "source": [
    "epochs = 1000\n",
    "loss_records = []\n",
    "tqdm_range = tqdm(range(epochs))\n",
    "\n",
    "for e in tqdm_range:\n",
    "    with tf.GradientTape() as tape:\n",
    "        d_post = tfd.Dirichlet(tf.math.softplus(d_logits))\n",
    "        d_sample = d_post.sample()\n",
    "        \n",
    "        prob_mat = calculate_doc_probs2(d_sample, t_logits)\n",
    "        lp = tf.math.log(tf.gather(prob_mat, padded_words, axis=1, batch_dims=1))\n",
    "        sum_lp = padded_counts * lp\n",
    "        kl = tfd.kl_divergence(d_post, d_prior)\n",
    "        \n",
    "        loss = -tf.reduce_sum(tf.reduce_mean(sum_lp, axis = 0)) + tf.reduce_mean(kl)\n",
    "    \n",
    "    grads = tape.gradient(loss, [d_logits, t_logits])\n",
    "    opt.apply_gradients(zip(grads, [d_logits, t_logits]))\n",
    "    loss_records.append(loss)\n",
    "    tqdm_range.set_description(\"{:.2f}\".format(loss.numpy()), refresh = True)"
   ]
  },
  {
   "cell_type": "code",
   "execution_count": 16,
   "metadata": {
    "collapsed": false
   },
   "outputs": [
    {
     "data": {
      "text/plain": [
       "<tf.Tensor: shape=(), dtype=float32, numpy=1042.3682>"
      ]
     },
     "execution_count": 16,
     "metadata": {},
     "output_type": "execute_result"
    }
   ],
   "source": [
    "tf.reduce_sum(-tf.reduce_mean(sum_lp, axis = 0))"
   ]
  },
  {
   "cell_type": "code",
   "execution_count": 17,
   "metadata": {
    "collapsed": false
   },
   "outputs": [
    {
     "name": "stdout",
     "output_type": "stream",
     "text": [
      "* topic 0 *\n",
      "['editor', 'article', 'speak', 'word', 'country', 'religious', 'believe', 'church', 'stand', 'letter']\n",
      "* topic 1 *\n",
      "['thing', 'ask', 'tell', 'really', 'feel', 'lot', 'happen', 'put', 'little', 'let']\n",
      "* topic 2 *\n",
      "['school', 'student', 'child', 'education', 'class', 'college', 'program', 'teacher', 'group', 'public']\n",
      "* topic 3 *\n",
      "['states', 'market', 'company', 'industry', 'trade', 'world', 'american', 'country', 'large', 'big']\n",
      "* topic 4 *\n",
      "['family', 'father', 'child', 'mother', 'son', 'woman', 'mrs', 'daughter', 'life', 'old']\n",
      "* topic 5 *\n",
      "['job', 'director', 'pay', 'president', 'service', 'employee', 'office', 'hire', 'executive', 'name']\n",
      "* topic 6 *\n",
      "['art', 'design', 'artist', 'collection', 'museum', 'color', 'exhibition', 'photograph', 'image', 'display']\n",
      "* topic 7 *\n",
      "['room', 'wear', 'house', 'door', 'sit', 'dress', 'front', 'stand', 'floor', 'store']\n",
      "* topic 8 *\n",
      "['research', 'study', 'scientist', 'cause', 'expert', 'result', 'problem', 'produce', 'suggest', 'test']\n",
      "* topic 9 *\n",
      "['government', 'military', 'war', 'states', 'american', 'force', 'country', 'official', 'leader', 'attack']\n",
      "* topic 10 *\n",
      "['company', 'sale', 'sell', 'share', 'executive', 'yesterday', 'business', 'buy', 'stock', 'market']\n",
      "* topic 11 *\n",
      "['percent', 'rate', 'increase', 'pay', 'rise', 'money', 'tax', 'cost', 'cut', 'average']\n",
      "* topic 12 *\n",
      "['city', 'town', 'visit', 'place', 'home', 'mile', 'area', 'open', 'park', 'local']\n",
      "* topic 13 *\n",
      "['food', 'serve', 'add', 'water', 'small', 'pound', 'fresh', 'minute', 'place', 'taste']\n",
      "* topic 14 *\n",
      "['law', 'case', 'court', 'lawyer', 'legal', 'rule', 'state', 'file', 'judge', 'issue']\n",
      "* topic 15 *\n",
      "['meeting', 'interview', 'question', 'statement', 'issue', 'news', 'comment', 'discuss', 'reporter', 'decision']\n",
      "* topic 16 *\n",
      "['hit', 'second', 'start', 'third', 'win', 'home', 'race', 'big', 'break', 'night']\n",
      "* topic 17 *\n",
      "['building', 'city', 'build', 'project', 'area', 'plan', 'house', 'resident', 'space', 'property']\n",
      "* topic 18 *\n",
      "['car', 'fire', 'hour', 'air', 'fly', 'driver', 'plane', 'official', 'carry', 'mile']\n",
      "* topic 19 *\n",
      "['police', 'charge', 'officer', 'man', 'crime', 'arrest', 'case', 'yesterday', 'official', 'criminal']\n",
      "* topic 20 *\n",
      "['computer', 'television', 'company', 'network', 'system', 'information', 'service', 'advertising', 'technology', 'program']\n",
      "* topic 21 *\n",
      "['health', 'drug', 'doctor', 'medical', 'care', 'patient', 'treatment', 'hospital', 'cause', 'disease']\n",
      "* topic 22 *\n",
      "['game', 'team', 'play', 'player', 'season', 'win', 'coach', 'score', 'victory', 'second']\n",
      "* topic 23 *\n",
      "['win', 'move', 'lose', 'point', 'hold', 'expect', 'return', 'remain', 'second', 'early']\n",
      "* topic 24 *\n",
      "['write', 'book', 'life', 'story', 'character', 'man', 'love', 'film', 'movie', 'writer']\n",
      "* topic 25 *\n",
      "['political', 'campaign', 'vote', 'party', 'republican', 'election', 'candidate', 'leader', 'state', 'democratic']\n",
      "* topic 26 *\n",
      "['state', 'problem', 'program', 'system', 'number', 'poor', 'country', 'change', 'large', 'nation']\n",
      "* topic 27 *\n",
      "['music', 'play', 'performance', 'audience', 'stage', 'perform', 'production', 'sound', 'theater', 'dance']\n",
      "* topic 28 *\n",
      "['history', 'world', 'great', 'idea', 'american', 'view', 'century', 'decade', 'past', 'change']\n",
      "* topic 29 *\n",
      "['plan', 'official', 'proposal', 'agreement', 'propose', 'agree', 'bill', 'approve', 'require', 'member']\n"
     ]
    }
   ],
   "source": [
    "get_top_words_per_topic(t_logits, top_k=10)"
   ]
  },
  {
   "cell_type": "code",
   "execution_count": 19,
   "metadata": {
    "collapsed": false
   },
   "outputs": [
    {
     "data": {
      "text/plain": [
       "462"
      ]
     },
     "execution_count": 19,
     "metadata": {},
     "output_type": "execute_result"
    }
   ],
   "source": [
    "len(calculate_unique_words(get_top_words_per_topic2(t_logits)))"
   ]
  },
  {
   "cell_type": "markdown",
   "metadata": {},
   "source": [
    "now let's do minibatch training"
   ]
  },
  {
   "cell_type": "code",
   "execution_count": 20,
   "metadata": {
    "collapsed": true
   },
   "outputs": [],
   "source": [
    "class sampler_indices:\n",
    "\n",
    "    def __init__(self, N, batch_size):\n",
    "        self.batch_size = batch_size\n",
    "        self.i = 0\n",
    "        self.N = N\n",
    "        self.ind = tf.range(self.N)\n",
    "        self.ind = tf.random.shuffle(self.ind)\n",
    "        \n",
    "    def take(self, ):\n",
    "        i0 = self.i%self.N\n",
    "        i1 = (self.i + self.batch_size)%self.N\n",
    "        \n",
    "        if i0 < i1:\n",
    "\n",
    "            self.i = i1\n",
    "            return self.ind[i0:i1]\n",
    "        \n",
    "        else:\n",
    "            x0 = self.ind[i0:]\n",
    "            x1 = self.ind[:i1]\n",
    "                \n",
    "            self.i = i1\n",
    "            self.ind = tf.random.shuffle(self.ind)\n",
    "            return np.concatenate((x0, x1), axis = 0)"
   ]
  },
  {
   "cell_type": "code",
   "execution_count": 21,
   "metadata": {
    "collapsed": false
   },
   "outputs": [],
   "source": [
    "# build a sampler for document indices\n",
    "batch_size = 1024\n",
    "ind_sampler = sampler_indices(padded_words.shape[0], batch_size)"
   ]
  },
  {
   "cell_type": "code",
   "execution_count": 22,
   "metadata": {
    "collapsed": true
   },
   "outputs": [],
   "source": [
    "T = 30\n",
    "D = len(word_list)\n",
    "V = len(word_to_id)\n",
    "d_logits = tf.Variable(tf.initializers.GlorotUniform()((D, T)))\n",
    "t_logits = tf.Variable(tf.initializers.GlorotUniform()((T, V)))\n",
    "opt = tf.optimizers.Adam(1e-2)\n",
    "theta_prior = 1.0\n",
    "\n",
    "d_prior = tfd.Dirichlet(tf.ones((T, )) * theta_prior)"
   ]
  },
  {
   "cell_type": "code",
   "execution_count": 23,
   "metadata": {
    "collapsed": false
   },
   "outputs": [
    {
     "name": "stderr",
     "output_type": "stream",
     "text": [
      "1063.15: 100%|██████████| 8000/8000 [08:12<00:00, 16.24it/s]\n"
     ]
    }
   ],
   "source": [
    "epochs = 1000*(padded_words.shape[0]//batch_size)\n",
    "tqdm_range = trange(epochs, desc='-ELBo: ', position=0, leave=True)\n",
    "loss_records = []\n",
    "\n",
    "for e in tqdm_range:\n",
    "    i = ind_sampler.take()\n",
    "    with tf.GradientTape() as tape:\n",
    "        w, c = tf.gather(padded_words, i, axis=0), tf.gather(tf.cast(padded_counts, 'float32'), i, axis=0)\n",
    "        d_logits_i = tf.gather(d_logits, i, axis=0)\n",
    "        d_post = tfd.Dirichlet(tf.math.softplus(d_logits_i))\n",
    "        d_sample = d_post.sample()\n",
    "        \n",
    "        prob_mat = calculate_doc_probs2(d_sample, t_logits)\n",
    "        lp = tf.math.log(tf.gather(prob_mat, w, axis=1, batch_dims=1))\n",
    "        sum_lp = c * lp\n",
    "        kl = tfd.kl_divergence(d_post, d_prior)\n",
    "        \n",
    "        loss = -tf.reduce_sum(tf.reduce_mean(sum_lp, axis = 0)) + tf.reduce_mean(kl)\n",
    "    \n",
    "    grads = tape.gradient(loss, [d_logits, t_logits])\n",
    "    opt.apply_gradients(zip(grads, [d_logits, t_logits]))\n",
    "    loss_records.append(loss)\n",
    "    tqdm_range.set_description(\"{:.2f}\".format(loss.numpy()), refresh = True)"
   ]
  },
  {
   "cell_type": "code",
   "execution_count": 24,
   "metadata": {
    "collapsed": false
   },
   "outputs": [
    {
     "data": {
      "text/plain": [
       "[<matplotlib.lines.Line2D at 0x7ff9f051bc50>]"
      ]
     },
     "execution_count": 24,
     "metadata": {},
     "output_type": "execute_result"
    },
    {
     "data": {
      "image/png": "[encoded data removed]",
      "text/plain": [
       "<matplotlib.figure.Figure at 0x7ff9f2a919b0>"
      ]
     },
     "metadata": {},
     "output_type": "display_data"
    }
   ],
   "source": [
    "plt.plot(loss_records)"
   ]
  },
  {
   "cell_type": "code",
   "execution_count": 25,
   "metadata": {
    "collapsed": false
   },
   "outputs": [
    {
     "name": "stdout",
     "output_type": "stream",
     "text": [
      "* topic 0 *\n",
      "['police', 'charge', 'man', 'officer', 'crime', 'arrest', 'case', 'yesterday', 'prison', 'kill']\n",
      "* topic 1 *\n",
      "['team', 'game', 'season', 'player', 'play', 'coach', 'league', 'baseball', 'start', 'ball']\n",
      "* topic 2 *\n",
      "['political', 'campaign', 'vote', 'party', 'election', 'republican', 'candidate', 'leader', 'state', 'democratic']\n",
      "* topic 3 *\n",
      "['book', 'editor', 'write', 'article', 'writer', 'life', 'publish', 'read', 'author', 'page']\n",
      "* topic 4 *\n",
      "['plan', 'proposal', 'propose', 'bill', 'require', 'approve', 'agreement', 'agree', 'official', 'allow']\n",
      "* topic 5 *\n",
      "['meeting', 'news', 'official', 'tell', 'interview', 'speak', 'reporter', 'comment', 'statement', 'ask']\n",
      "* topic 6 *\n",
      "['computer', 'company', 'network', 'technology', 'system', 'television', 'service', 'information', 'program', 'site']\n",
      "* topic 7 *\n",
      "['mile', 'car', 'hour', 'official', 'travel', 'air', 'water', 'fire', 'driver', 'area']\n",
      "* topic 8 *\n",
      "['states', 'country', 'american', 'world', 'international', 'nation', 'european', 'foreign', 'major', 'change']\n",
      "* topic 9 *\n",
      "['company', 'sale', 'sell', 'price', 'market', 'industry', 'buy', 'product', 'business', 'store']\n",
      "* topic 10 *\n",
      "['family', 'child', 'woman', 'life', 'friend', 'live', 'home', 'man', 'young', 'mother']\n",
      "* topic 11 *\n",
      "['building', 'city', 'build', 'house', 'area', 'resident', 'project', 'street', 'site', 'live']\n",
      "* topic 12 *\n",
      "['president', 'yesterday', 'name', 'director', 'executive', 'father', 'receive', 'graduate', 'mrs', 'vice']\n",
      "* topic 13 *\n",
      "['group', 'problem', 'organization', 'director', 'community', 'program', 'public', 'city', 'effort', 'member']\n",
      "* topic 14 *\n",
      "['case', 'law', 'court', 'lawyer', 'legal', 'rule', 'judge', 'file', 'state', 'decision']\n",
      "* topic 15 *\n",
      "['health', 'drug', 'doctor', 'cause', 'study', 'medical', 'patient', 'treatment', 'report', 'hospital']\n",
      "* topic 16 *\n",
      "['pay', 'money', 'cost', 'worker', 'tax', 'benefit', 'job', 'state', 'budget', 'program']\n",
      "* topic 17 *\n",
      "['film', 'character', 'movie', 'play', 'man', 'story', 'woman', 'love', 'scene', 'life']\n",
      "* topic 18 *\n",
      "['wear', 'small', 'white', 'color', 'place', 'black', 'blue', 'cover', 'red', 'dress']\n",
      "* topic 19 *\n",
      "['win', 'second', 'point', 'play', 'victory', 'third', 'score', 'final', 'lose', 'game']\n",
      "* topic 20 *\n",
      "['percent', 'rate', 'rise', 'increase', 'report', 'low', 'fall', 'economy', 'average', 'point']\n",
      "* topic 21 *\n",
      "['question', 'different', 'view', 'important', 'far', 'suggest', 'mean', 'point', 'produce', 'scientist']\n",
      "* topic 22 *\n",
      "['company', 'share', 'stock', 'bank', 'market', 'financial', 'percent', 'investor', 'business', 'sell']\n",
      "* topic 23 *\n",
      "['thing', 'lot', 'really', 'ask', 'feel', 'tell', 'put', 'kind', 'happen', 'little']\n",
      "* topic 24 *\n",
      "['art', 'artist', 'open', 'museum', 'exhibition', 'photograph', 'collection', 'design', 'free', 'information']\n",
      "* topic 25 *\n",
      "['school', 'student', 'class', 'education', 'child', 'college', 'teacher', 'program', 'parent', 'study']\n",
      "* topic 26 *\n",
      "['hand', 'walk', 'away', 'crowd', 'little', 'turn', 'feel', 'stand', 'head', 'stop']\n",
      "* topic 27 *\n",
      "['government', 'war', 'military', 'force', 'american', 'states', 'leader', 'country', 'attack', 'official']\n",
      "* topic 28 *\n",
      "['music', 'play', 'performance', 'perform', 'song', 'dance', 'sound', 'audience', 'night', 'stage']\n",
      "* topic 29 *\n",
      "['food', 'serve', 'restaurant', 'add', 'taste', 'fresh', 'small', 'eat', 'dinner', 'pound']\n"
     ]
    }
   ],
   "source": [
    "get_top_words_per_topic(t_logits, top_k=10)"
   ]
  },
  {
   "cell_type": "code",
   "execution_count": 26,
   "metadata": {
    "collapsed": true
   },
   "outputs": [],
   "source": [
    "def get_top_words_per_topic2(topics, top_k = 20):\n",
    "    # doesn't matter they are logits or not.. exp is a monotonic function\n",
    "    top_words = tf.argsort(-topics, axis = -1)[:, :top_k]\n",
    "    res = []\n",
    "    for t in range(topics.shape[0]):\n",
    "        res.append([id_to_word[i.numpy()] for i in top_words[t, :]])\n",
    "    \n",
    "    return res\n",
    "\n",
    "def calculate_unique_words(list_of_list):\n",
    "    res_set = set({})\n",
    "    for l in list_of_list:\n",
    "        res_set = res_set.union(set(l))\n",
    "\n",
    "    return res_set"
   ]
  },
  {
   "cell_type": "code",
   "execution_count": 27,
   "metadata": {
    "collapsed": false
   },
   "outputs": [
    {
     "data": {
      "text/plain": [
       "469"
      ]
     },
     "execution_count": 27,
     "metadata": {},
     "output_type": "execute_result"
    }
   ],
   "source": [
    "len(calculate_unique_words(get_top_words_per_topic2(t_logits)))"
   ]
  },
  {
   "cell_type": "markdown",
   "metadata": {},
   "source": [
    "### Amortized Unsmooth LDA"
   ]
  },
  {
   "cell_type": "code",
   "execution_count": 28,
   "metadata": {
    "collapsed": true
   },
   "outputs": [],
   "source": [
    "# we need to engineer an encoder network a bit, because our data is not in a bag of words format"
   ]
  },
  {
   "cell_type": "code",
   "execution_count": 51,
   "metadata": {
    "collapsed": true
   },
   "outputs": [],
   "source": [
    "def make_encoder(num_layers, dim, T, V, L, activation = 'tanh', residual = False):\n",
    "    # we build a keras sequential model with prescribed model\n",
    "    # first embed into the dimensions\n",
    "    inputs_w = tf.keras.Input(shape = (L, ))\n",
    "    inputs_c = tf.keras.Input(shape = (L, ))\n",
    "    embedded = tf.keras.layers.Embedding(V, dim)(inputs_w)\n",
    "    x = tf.reduce_sum(embedded * tf.expand_dims(inputs_c, axis = -1), axis = 1) # bow\n",
    "    \n",
    "    for l in range(num_layers):\n",
    "        if residual:\n",
    "            x = tf.keras.layers.Dense(dim, activation=activation)(x) + x\n",
    "        else:\n",
    "            x = tf.keras.layers.Dense(dim, activation=activation)(x)\n",
    "    \n",
    "    x = tf.keras.layers.Dense(T, activation = None)(x)\n",
    "    \n",
    "    encoder = tf.keras.Model(inputs = [inputs_w, inputs_c], outputs=x)\n",
    "    return encoder"
   ]
  },
  {
   "cell_type": "code",
   "execution_count": 58,
   "metadata": {
    "collapsed": false
   },
   "outputs": [
    {
     "name": "stdout",
     "output_type": "stream",
     "text": [
      "Model: \"functional_9\"\n",
      "__________________________________________________________________________________________________\n",
      "Layer (type)                    Output Shape         Param #     Connected to                     \n",
      "==================================================================================================\n",
      "input_9 (InputLayer)            [(None, 883)]        0                                            \n",
      "__________________________________________________________________________________________________\n",
      "input_10 (InputLayer)           [(None, 883)]        0                                            \n",
      "__________________________________________________________________________________________________\n",
      "embedding_4 (Embedding)         (None, 883, 16)      48192       input_9[0][0]                    \n",
      "__________________________________________________________________________________________________\n",
      "tf_op_layer_ExpandDims_4 (Tenso [(None, 883, 1)]     0           input_10[0][0]                   \n",
      "__________________________________________________________________________________________________\n",
      "tf_op_layer_Mul_4 (TensorFlowOp [(None, 883, 16)]    0           embedding_4[0][0]                \n",
      "                                                                 tf_op_layer_ExpandDims_4[0][0]   \n",
      "__________________________________________________________________________________________________\n",
      "tf_op_layer_Sum_4 (TensorFlowOp [(None, 16)]         0           tf_op_layer_Mul_4[0][0]          \n",
      "__________________________________________________________________________________________________\n",
      "dense_16 (Dense)                (None, 16)           272         tf_op_layer_Sum_4[0][0]          \n",
      "__________________________________________________________________________________________________\n",
      "dense_17 (Dense)                (None, 16)           272         dense_16[0][0]                   \n",
      "__________________________________________________________________________________________________\n",
      "dense_18 (Dense)                (None, 16)           272         dense_17[0][0]                   \n",
      "__________________________________________________________________________________________________\n",
      "dense_19 (Dense)                (None, 30)           510         dense_18[0][0]                   \n",
      "==================================================================================================\n",
      "Total params: 49,518\n",
      "Trainable params: 49,518\n",
      "Non-trainable params: 0\n",
      "__________________________________________________________________________________________________\n"
     ]
    }
   ],
   "source": [
    "# build a sampler for document indices\n",
    "batch_size = 64\n",
    "ind_sampler = sampler_indices(padded_words.shape[0], batch_size)\n",
    "\n",
    "T = 30\n",
    "D = len(word_list)\n",
    "V = len(word_to_id)\n",
    "# d_logits = tf.Variable(tf.initializers.GlorotUniform()((D, T)))\n",
    "t_logits = tf.Variable(tf.initializers.GlorotUniform()((T, V)))\n",
    "# opt = tf.optimizers.Adam(1e-3, beta_1=0., beta_2 = 0.999, clipvalue=1e-1)\n",
    "opt = tf.optimizers.RMSprop(1e-3)\n",
    "theta_prior = 1.0\n",
    "d_prior = tfd.Dirichlet(tf.ones((T, )) * theta_prior)\n",
    "d_encoder = make_encoder(3, 64, 30, len(word_to_id), w.shape[1], )\n",
    "d_encoder.summary()"
   ]
  },
  {
   "cell_type": "code",
   "execution_count": 59,
   "metadata": {
    "collapsed": false
   },
   "outputs": [
    {
     "name": "stderr",
     "output_type": "stream",
     "text": [
      "1128.70: 100%|██████████| 13100/13100 [09:27<00:00, 23.08it/s]\n"
     ]
    }
   ],
   "source": [
    "epochs = 100*(padded_words.shape[0]//batch_size)\n",
    "tqdm_range = trange(epochs, desc='-ELBo: ', position=0, leave=True)\n",
    "loss_records = []\n",
    "\n",
    "for e in tqdm_range:\n",
    "    i = ind_sampler.take()\n",
    "    with tf.GradientTape() as tape:\n",
    "        w, c = tf.gather(padded_words, i, axis=0), tf.gather(tf.cast(padded_counts, 'float32'), i, axis=0)\n",
    "        d_logits_i = d_encoder([w, c])\n",
    "        d_post = tfd.Dirichlet(tf.math.softplus(d_logits_i))\n",
    "        d_sample = d_post.sample()\n",
    "        \n",
    "        prob_mat = calculate_doc_probs2(d_sample, t_logits)\n",
    "        lp = tf.math.log(tf.gather(prob_mat, w, axis=1, batch_dims=1))\n",
    "        sum_lp = c * lp\n",
    "        kl = tfd.kl_divergence(d_post, d_prior)\n",
    "        \n",
    "        loss = -tf.reduce_sum(tf.reduce_mean(sum_lp, axis = 0)) + tf.reduce_mean(kl)\n",
    "    \n",
    "    grads = tape.gradient(loss, [t_logits, ] + d_encoder.trainable_variables)\n",
    "    opt.apply_gradients(zip(grads, [t_logits, ] + d_encoder.trainable_variables))\n",
    "    loss_records.append(loss)\n",
    "    tqdm_range.set_description(\"{:.2f}\".format(loss.numpy()), refresh = True)"
   ]
  },
  {
   "cell_type": "code",
   "execution_count": 60,
   "metadata": {
    "collapsed": false
   },
   "outputs": [
    {
     "data": {
      "image/png": "[encoded data removed]",
      "text/plain": [
       "<matplotlib.figure.Figure at 0x7ff9c7053fd0>"
      ]
     },
     "metadata": {},
     "output_type": "display_data"
    }
   ],
   "source": [
    "plt.plot(loss_records)\n",
    "plt.show()"
   ]
  },
  {
   "cell_type": "code",
   "execution_count": 61,
   "metadata": {
    "collapsed": false
   },
   "outputs": [
    {
     "name": "stdout",
     "output_type": "stream",
     "text": [
      "* topic 0 *\n",
      "['tell', 'ask', 'man', 'city', 'group', 'move', 'place', 'school', 'ago', 'name']\n",
      "* topic 1 *\n",
      "['official', 'state', 'government', 'issue', 'states', 'political', 'leader', 'public', 'support', 'country']\n",
      "* topic 2 *\n",
      "['tell', 'man', 'ask', 'city', 'ago', 'group', 'home', 'name', 'family', 'place']\n",
      "* topic 3 *\n",
      "['man', 'home', 'tell', 'life', 'thing', 'name', 'family', 'place', 'old', 'live']\n",
      "* topic 4 *\n",
      "['thing', 'home', 'man', 'start', 'tell', 'feel', 'old', 'lot', 'point', 'life']\n",
      "* topic 5 *\n",
      "['group', 'states', 'president', 'state', 'public', 'member', 'city', 'country', 'official', 'case']\n",
      "* topic 6 *\n",
      "['official', 'state', 'states', 'government', 'member', 'group', 'issue', 'case', 'public', 'plan']\n",
      "* topic 7 *\n",
      "['group', 'tell', 'ask', 'city', 'man', 'case', 'problem', 'public', 'ago', 'program']\n",
      "* topic 8 *\n",
      "['man', 'tell', 'home', 'life', 'thing', 'old', 'family', 'start', 'child', 'place']\n",
      "* topic 9 *\n",
      "['official', 'states', 'state', 'government', 'issue', 'group', 'political', 'member', 'country', 'public']\n",
      "* topic 10 *\n",
      "['group', 'man', 'city', 'tell', 'ask', 'child', 'ago', 'school', 'place', 'name']\n",
      "* topic 11 *\n",
      "['man', 'life', 'tell', 'home', 'thing', 'old', 'name', 'child', 'woman', 'live']\n",
      "* topic 12 *\n",
      "['official', 'state', 'government', 'issue', 'states', 'group', 'public', 'political', 'member', 'support']\n",
      "* topic 13 *\n",
      "['official', 'state', 'group', 'states', 'issue', 'public', 'president', 'country', 'plan', 'case']\n",
      "* topic 14 *\n",
      "['official', 'state', 'group', 'states', 'member', 'public', 'country', 'american', 'plan', 'case']\n",
      "* topic 15 *\n",
      "['percent', 'company', 'market', 'price', 'increase', 'stock', 'rate', 'sell', 'business', 'share']\n",
      "* topic 16 *\n",
      "['tell', 'man', 'group', 'family', 'home', 'ask', 'city', 'place', 'child', 'ago']\n",
      "* topic 17 *\n",
      "['music', 'art', 'play', 'film', 'love', 'artist', 'book', 'life', 'character', 'piece']\n",
      "* topic 18 *\n",
      "['game', 'play', 'team', 'win', 'season', 'player', 'second', 'victory', 'score', 'lose']\n",
      "* topic 19 *\n",
      "['government', 'state', 'plan', 'percent', 'issue', 'official', 'vote', 'republican', 'leader', 'company']\n",
      "* topic 20 *\n",
      "['official', 'group', 'state', 'case', 'public', 'city', 'ask', 'tell', 'president', 'plan']\n",
      "* topic 21 *\n",
      "['official', 'state', 'government', 'states', 'issue', 'political', 'member', 'leader', 'case', 'group']\n",
      "* topic 22 *\n",
      "['group', 'official', 'state', 'city', 'case', 'public', 'states', 'add', 'number', 'member']\n",
      "* topic 23 *\n",
      "['man', 'tell', 'ask', 'home', 'life', 'name', 'place', 'family', 'child', 'thing']\n",
      "* topic 24 *\n",
      "['tell', 'man', 'home', 'ago', 'place', 'life', 'family', 'thing', 'city', 'move']\n",
      "* topic 25 *\n",
      "['man', 'life', 'tell', 'home', 'old', 'family', 'child', 'thing', 'woman', 'live']\n",
      "* topic 26 *\n",
      "['man', 'tell', 'home', 'life', 'ago', 'place', 'thing', 'family', 'ask', 'child']\n",
      "* topic 27 *\n",
      "['official', 'group', 'state', 'public', 'states', 'case', 'member', 'issue', 'country', 'american']\n",
      "* topic 28 *\n",
      "['official', 'state', 'government', 'states', 'issue', 'member', 'public', 'case', 'group', 'political']\n",
      "* topic 29 *\n",
      "['tell', 'group', 'program', 'city', 'ask', 'ago', 'case', 'man', 'state', 'public']\n"
     ]
    }
   ],
   "source": [
    "get_top_words_per_topic(t_logits, top_k=10)"
   ]
  },
  {
   "cell_type": "code",
   "execution_count": 64,
   "metadata": {
    "collapsed": false
   },
   "outputs": [
    {
     "data": {
      "text/plain": [
       "120"
      ]
     },
     "execution_count": 64,
     "metadata": {},
     "output_type": "execute_result"
    }
   ],
   "source": [
    "len(calculate_unique_words(get_top_words_per_topic2(t_logits)))"
   ]
  },
  {
   "cell_type": "markdown",
   "metadata": {},
   "source": [
    "### Smoothed Amortized LDA"
   ]
  },
  {
   "cell_type": "code",
   "execution_count": 33,
   "metadata": {
    "collapsed": true
   },
   "outputs": [],
   "source": [
    "?tf.keras.layers.Dropout"
   ]
  },
  {
   "cell_type": "code",
   "execution_count": 36,
   "metadata": {
    "collapsed": true
   },
   "outputs": [],
   "source": [
    "def make_dropout_encoder(num_layers, dim, T, V, L, activation = 'relu', dropout = 0.3, residual = False):\n",
    "    # we build a keras sequential model with prescribed model\n",
    "    # first embed into the dimensions\n",
    "    inputs_w = tf.keras.Input(shape = (L, ))\n",
    "    inputs_c = tf.keras.Input(shape = (L, ))\n",
    "    embedded = tf.keras.layers.Embedding(V, dim)(inputs_w)\n",
    "    x = tf.reduce_sum(embedded * tf.expand_dims(inputs_c, axis = -1), axis = 1) # bow\n",
    "    x = tf.keras.layers.Dropout(dropout)(x)\n",
    "    \n",
    "    for l in range(num_layers):\n",
    "        if residual:\n",
    "            x = tf.keras.layers.Dropout(dropout)(tf.keras.layers.Dense(dim, activation=activation)(x)) + x\n",
    "        else:\n",
    "            x = tf.keras.layers.Dropout(dropout)(tf.keras.layers.Dense(dim, activation=activation)(x))\n",
    "    \n",
    "    x = tf.keras.layers.Dense(T, activation = None)(x)\n",
    "    \n",
    "    encoder = tf.keras.Model(inputs = [inputs_w, inputs_c], outputs=x)\n",
    "    return encoder"
   ]
  },
  {
   "cell_type": "code",
   "execution_count": 37,
   "metadata": {
    "collapsed": false
   },
   "outputs": [
    {
     "name": "stdout",
     "output_type": "stream",
     "text": [
      "Model: \"functional_5\"\n",
      "__________________________________________________________________________________________________\n",
      "Layer (type)                    Output Shape         Param #     Connected to                     \n",
      "==================================================================================================\n",
      "input_7 (InputLayer)            [(None, 883)]        0                                            \n",
      "__________________________________________________________________________________________________\n",
      "input_8 (InputLayer)            [(None, 883)]        0                                            \n",
      "__________________________________________________________________________________________________\n",
      "embedding_3 (Embedding)         (None, 883, 64)      192768      input_7[0][0]                    \n",
      "__________________________________________________________________________________________________\n",
      "tf_op_layer_ExpandDims_3 (Tenso [(None, 883, 1)]     0           input_8[0][0]                    \n",
      "__________________________________________________________________________________________________\n",
      "tf_op_layer_Mul_3 (TensorFlowOp [(None, 883, 64)]    0           embedding_3[0][0]                \n",
      "                                                                 tf_op_layer_ExpandDims_3[0][0]   \n",
      "__________________________________________________________________________________________________\n",
      "tf_op_layer_Sum_3 (TensorFlowOp [(None, 64)]         0           tf_op_layer_Mul_3[0][0]          \n",
      "__________________________________________________________________________________________________\n",
      "dropout_1 (Dropout)             (None, 64)           0           tf_op_layer_Sum_3[0][0]          \n",
      "__________________________________________________________________________________________________\n",
      "dense_8 (Dense)                 (None, 64)           4160        dropout_1[0][0]                  \n",
      "__________________________________________________________________________________________________\n",
      "dropout_2 (Dropout)             (None, 64)           0           dense_8[0][0]                    \n",
      "__________________________________________________________________________________________________\n",
      "dense_9 (Dense)                 (None, 64)           4160        dropout_2[0][0]                  \n",
      "__________________________________________________________________________________________________\n",
      "dropout_3 (Dropout)             (None, 64)           0           dense_9[0][0]                    \n",
      "__________________________________________________________________________________________________\n",
      "dense_10 (Dense)                (None, 64)           4160        dropout_3[0][0]                  \n",
      "__________________________________________________________________________________________________\n",
      "dropout_4 (Dropout)             (None, 64)           0           dense_10[0][0]                   \n",
      "__________________________________________________________________________________________________\n",
      "dense_11 (Dense)                (None, 30)           1950        dropout_4[0][0]                  \n",
      "==================================================================================================\n",
      "Total params: 207,198\n",
      "Trainable params: 207,198\n",
      "Non-trainable params: 0\n",
      "__________________________________________________________________________________________________\n"
     ]
    }
   ],
   "source": [
    "# build a sampler for document indices\n",
    "batch_size = 2048\n",
    "ind_sampler = sampler_indices(padded_words.shape[0], batch_size)\n",
    "\n",
    "T = 30\n",
    "D = len(word_list)\n",
    "V = len(word_to_id)\n",
    "# d_logits = tf.Variable(tf.initializers.GlorotUniform()((D, T)))\n",
    "t_logits = tf.Variable(tf.initializers.GlorotUniform()((T, V)))\n",
    "opt = tf.optimizers.Adam(1e-3)\n",
    "theta_prior = 1.0\n",
    "beta_prior = 1.0\n",
    "d_prior = tfd.Dirichlet(tf.ones((T, )) * theta_prior)\n",
    "t_prior = tfd.Dirichlet(tf.ones((V, )) * beta_prior)\n",
    "d_encoder = make_dropout_encoder(3, 64, 30, len(word_to_id), w.shape[1], )\n",
    "d_encoder.summary()"
   ]
  },
  {
   "cell_type": "code",
   "execution_count": 38,
   "metadata": {
    "collapsed": true
   },
   "outputs": [],
   "source": [
    "def calculate_doc_probs3(d_probs, t_probs):\n",
    "    res = d_probs@t_probs\n",
    "    return res"
   ]
  },
  {
   "cell_type": "code",
   "execution_count": 39,
   "metadata": {
    "collapsed": false
   },
   "outputs": [
    {
     "name": "stderr",
     "output_type": "stream",
     "text": [
      "-ELBo: 1138.79:  45%|████▌     | 1801/4000 [23:26<28:11,  1.30it/s]"
     ]
    },
    {
     "ename": "KeyboardInterrupt",
     "evalue": "",
     "output_type": "error",
     "traceback": [
      "\u001b[0;31m---------------------------------------------------------------------------\u001b[0m",
      "\u001b[0;31mKeyboardInterrupt\u001b[0m                         Traceback (most recent call last)",
      "\u001b[0;32m<ipython-input-39-a0adb2f0a801>\u001b[0m in \u001b[0;36m<module>\u001b[0;34m()\u001b[0m\n\u001b[1;32m     22\u001b[0m         \u001b[0mloss\u001b[0m \u001b[0;34m+=\u001b[0m \u001b[0mtf\u001b[0m\u001b[0;34m.\u001b[0m\u001b[0mreduce_sum\u001b[0m\u001b[0;34m(\u001b[0m\u001b[0mtfd\u001b[0m\u001b[0;34m.\u001b[0m\u001b[0mkl_divergence\u001b[0m\u001b[0;34m(\u001b[0m\u001b[0mt_post\u001b[0m\u001b[0;34m,\u001b[0m \u001b[0mt_prior\u001b[0m\u001b[0;34m)\u001b[0m\u001b[0;34m)\u001b[0m\u001b[0;34m/\u001b[0m\u001b[0mbatch_size\u001b[0m\u001b[0;34m\u001b[0m\u001b[0m\n\u001b[1;32m     23\u001b[0m \u001b[0;34m\u001b[0m\u001b[0m\n\u001b[0;32m---> 24\u001b[0;31m     \u001b[0mgrads\u001b[0m \u001b[0;34m=\u001b[0m \u001b[0mtape\u001b[0m\u001b[0;34m.\u001b[0m\u001b[0mgradient\u001b[0m\u001b[0;34m(\u001b[0m\u001b[0mloss\u001b[0m\u001b[0;34m,\u001b[0m \u001b[0;34m[\u001b[0m\u001b[0mt_logits\u001b[0m\u001b[0;34m,\u001b[0m \u001b[0;34m]\u001b[0m \u001b[0;34m+\u001b[0m \u001b[0md_encoder\u001b[0m\u001b[0;34m.\u001b[0m\u001b[0mtrainable_variables\u001b[0m\u001b[0;34m)\u001b[0m\u001b[0;34m\u001b[0m\u001b[0m\n\u001b[0m\u001b[1;32m     25\u001b[0m     \u001b[0mopt\u001b[0m\u001b[0;34m.\u001b[0m\u001b[0mapply_gradients\u001b[0m\u001b[0;34m(\u001b[0m\u001b[0mzip\u001b[0m\u001b[0;34m(\u001b[0m\u001b[0mgrads\u001b[0m\u001b[0;34m,\u001b[0m \u001b[0;34m[\u001b[0m\u001b[0mt_logits\u001b[0m\u001b[0;34m,\u001b[0m \u001b[0;34m]\u001b[0m \u001b[0;34m+\u001b[0m \u001b[0md_encoder\u001b[0m\u001b[0;34m.\u001b[0m\u001b[0mtrainable_variables\u001b[0m\u001b[0;34m)\u001b[0m\u001b[0;34m)\u001b[0m\u001b[0;34m\u001b[0m\u001b[0m\n\u001b[1;32m     26\u001b[0m     \u001b[0mloss_records\u001b[0m\u001b[0;34m.\u001b[0m\u001b[0mappend\u001b[0m\u001b[0;34m(\u001b[0m\u001b[0mloss\u001b[0m\u001b[0;34m)\u001b[0m\u001b[0;34m\u001b[0m\u001b[0m\n",
      "\u001b[0;32m/Users/donghanhe/anaconda3/lib/python3.5/site-packages/tensorflow/python/eager/backprop.py\u001b[0m in \u001b[0;36mgradient\u001b[0;34m(self, target, sources, output_gradients, unconnected_gradients)\u001b[0m\n\u001b[1;32m   1071\u001b[0m         \u001b[0moutput_gradients\u001b[0m\u001b[0;34m=\u001b[0m\u001b[0moutput_gradients\u001b[0m\u001b[0;34m,\u001b[0m\u001b[0;34m\u001b[0m\u001b[0m\n\u001b[1;32m   1072\u001b[0m         \u001b[0msources_raw\u001b[0m\u001b[0;34m=\u001b[0m\u001b[0mflat_sources_raw\u001b[0m\u001b[0;34m,\u001b[0m\u001b[0;34m\u001b[0m\u001b[0m\n\u001b[0;32m-> 1073\u001b[0;31m         unconnected_gradients=unconnected_gradients)\n\u001b[0m\u001b[1;32m   1074\u001b[0m \u001b[0;34m\u001b[0m\u001b[0m\n\u001b[1;32m   1075\u001b[0m     \u001b[0;32mif\u001b[0m \u001b[0;32mnot\u001b[0m \u001b[0mself\u001b[0m\u001b[0;34m.\u001b[0m\u001b[0m_persistent\u001b[0m\u001b[0;34m:\u001b[0m\u001b[0;34m\u001b[0m\u001b[0m\n",
      "\u001b[0;32m/Users/donghanhe/anaconda3/lib/python3.5/site-packages/tensorflow/python/eager/imperative_grad.py\u001b[0m in \u001b[0;36mimperative_grad\u001b[0;34m(tape, target, sources, output_gradients, sources_raw, unconnected_gradients)\u001b[0m\n\u001b[1;32m     75\u001b[0m       \u001b[0moutput_gradients\u001b[0m\u001b[0;34m,\u001b[0m\u001b[0;34m\u001b[0m\u001b[0m\n\u001b[1;32m     76\u001b[0m       \u001b[0msources_raw\u001b[0m\u001b[0;34m,\u001b[0m\u001b[0;34m\u001b[0m\u001b[0m\n\u001b[0;32m---> 77\u001b[0;31m       compat.as_str(unconnected_gradients.value))\n\u001b[0m",
      "\u001b[0;32m/Users/donghanhe/anaconda3/lib/python3.5/site-packages/tensorflow/python/eager/function.py\u001b[0m in \u001b[0;36m_backward_function_wrapper\u001b[0;34m(*args)\u001b[0m\n\u001b[1;32m   1264\u001b[0m           \u001b[0;32mbreak\u001b[0m\u001b[0;34m\u001b[0m\u001b[0m\n\u001b[1;32m   1265\u001b[0m       return backward._call_flat(  # pylint: disable=protected-access\n\u001b[0;32m-> 1266\u001b[0;31m           processed_args, remapped_captures)\n\u001b[0m\u001b[1;32m   1267\u001b[0m \u001b[0;34m\u001b[0m\u001b[0m\n\u001b[1;32m   1268\u001b[0m     \u001b[0;32mreturn\u001b[0m \u001b[0m_backward_function_wrapper\u001b[0m\u001b[0;34m,\u001b[0m \u001b[0mrecorded_outputs\u001b[0m\u001b[0;34m\u001b[0m\u001b[0m\n",
      "\u001b[0;32m/Users/donghanhe/anaconda3/lib/python3.5/site-packages/tensorflow/python/eager/function.py\u001b[0m in \u001b[0;36m_call_flat\u001b[0;34m(self, args, captured_inputs, cancellation_manager)\u001b[0m\n\u001b[1;32m   1922\u001b[0m       \u001b[0;31m# No tape is watching; skip to running the function.\u001b[0m\u001b[0;34m\u001b[0m\u001b[0;34m\u001b[0m\u001b[0m\n\u001b[1;32m   1923\u001b[0m       return self._build_call_outputs(self._inference_function.call(\n\u001b[0;32m-> 1924\u001b[0;31m           ctx, args, cancellation_manager=cancellation_manager))\n\u001b[0m\u001b[1;32m   1925\u001b[0m     forward_backward = self._select_forward_and_backward_functions(\n\u001b[1;32m   1926\u001b[0m         \u001b[0margs\u001b[0m\u001b[0;34m,\u001b[0m\u001b[0;34m\u001b[0m\u001b[0m\n",
      "\u001b[0;32m/Users/donghanhe/anaconda3/lib/python3.5/site-packages/tensorflow/python/eager/function.py\u001b[0m in \u001b[0;36mcall\u001b[0;34m(self, ctx, args, cancellation_manager)\u001b[0m\n\u001b[1;32m    548\u001b[0m               \u001b[0minputs\u001b[0m\u001b[0;34m=\u001b[0m\u001b[0margs\u001b[0m\u001b[0;34m,\u001b[0m\u001b[0;34m\u001b[0m\u001b[0m\n\u001b[1;32m    549\u001b[0m               \u001b[0mattrs\u001b[0m\u001b[0;34m=\u001b[0m\u001b[0mattrs\u001b[0m\u001b[0;34m,\u001b[0m\u001b[0;34m\u001b[0m\u001b[0m\n\u001b[0;32m--> 550\u001b[0;31m               ctx=ctx)\n\u001b[0m\u001b[1;32m    551\u001b[0m         \u001b[0;32melse\u001b[0m\u001b[0;34m:\u001b[0m\u001b[0;34m\u001b[0m\u001b[0m\n\u001b[1;32m    552\u001b[0m           outputs = execute.execute_with_cancellation(\n",
      "\u001b[0;32m/Users/donghanhe/anaconda3/lib/python3.5/site-packages/tensorflow/python/eager/execute.py\u001b[0m in \u001b[0;36mquick_execute\u001b[0;34m(op_name, num_outputs, inputs, attrs, ctx, name)\u001b[0m\n\u001b[1;32m     58\u001b[0m     \u001b[0mctx\u001b[0m\u001b[0;34m.\u001b[0m\u001b[0mensure_initialized\u001b[0m\u001b[0;34m(\u001b[0m\u001b[0;34m)\u001b[0m\u001b[0;34m\u001b[0m\u001b[0m\n\u001b[1;32m     59\u001b[0m     tensors = pywrap_tfe.TFE_Py_Execute(ctx._handle, device_name, op_name,\n\u001b[0;32m---> 60\u001b[0;31m                                         inputs, attrs, num_outputs)\n\u001b[0m\u001b[1;32m     61\u001b[0m   \u001b[0;32mexcept\u001b[0m \u001b[0mcore\u001b[0m\u001b[0;34m.\u001b[0m\u001b[0m_NotOkStatusException\u001b[0m \u001b[0;32mas\u001b[0m \u001b[0me\u001b[0m\u001b[0;34m:\u001b[0m\u001b[0;34m\u001b[0m\u001b[0m\n\u001b[1;32m     62\u001b[0m     \u001b[0;32mif\u001b[0m \u001b[0mname\u001b[0m \u001b[0;32mis\u001b[0m \u001b[0;32mnot\u001b[0m \u001b[0;32mNone\u001b[0m\u001b[0;34m:\u001b[0m\u001b[0;34m\u001b[0m\u001b[0m\n",
      "\u001b[0;31mKeyboardInterrupt\u001b[0m: "
     ]
    }
   ],
   "source": [
    "epochs = 1000*(padded_words.shape[0]//batch_size)\n",
    "tqdm_range = trange(epochs, desc='-ELBo: ', position=0, leave=True)\n",
    "loss_records = []\n",
    "\n",
    "for e in tqdm_range:\n",
    "    i = ind_sampler.take()\n",
    "    with tf.GradientTape() as tape:\n",
    "        w, c = tf.gather(padded_words, i, axis=0), tf.gather(tf.cast(padded_counts, 'float32'), i, axis=0)\n",
    "        d_logits_i = d_encoder([w, c], training = True)\n",
    "        d_post = tfd.Dirichlet(tf.math.softplus(d_logits_i))\n",
    "        d_sample = d_post.sample()\n",
    "        \n",
    "        t_post = tfd.Dirichlet(tf.math.softplus(t_logits))\n",
    "        t_sample = t_post.sample()\n",
    "        \n",
    "        prob_mat = calculate_doc_probs3(d_sample, t_sample)\n",
    "        lp = tf.math.log(tf.gather(prob_mat, w, axis=1, batch_dims=1))\n",
    "        sum_lp = c * lp\n",
    "        kl = tfd.kl_divergence(d_post, d_prior)\n",
    "        \n",
    "        loss = -tf.reduce_sum(tf.reduce_mean(sum_lp, axis = 0)) + tf.reduce_mean(kl)\n",
    "        loss += tf.reduce_sum(tfd.kl_divergence(t_post, t_prior))/batch_size\n",
    "    \n",
    "    grads = tape.gradient(loss, [t_logits, ] + d_encoder.trainable_variables)\n",
    "    opt.apply_gradients(zip(grads, [t_logits, ] + d_encoder.trainable_variables))\n",
    "    loss_records.append(loss)\n",
    "    tqdm_range.set_description(\"-ELBo: {:.2f}\".format(loss.numpy()), refresh = True)"
   ]
  },
  {
   "cell_type": "code",
   "execution_count": 40,
   "metadata": {
    "collapsed": false
   },
   "outputs": [
    {
     "name": "stdout",
     "output_type": "stream",
     "text": [
      "* topic 0 *\n",
      "['play', 'state', 'company', 'percent', 'official', 'government', 'plan', 'member', 'states', 'open']\n",
      "* topic 1 *\n",
      "['group', 'official', 'company', 'member', 'play', 'plan', 'start', 'place', 'states', 'pay']\n",
      "* topic 2 *\n",
      "['percent', 'play', 'official', 'man', 'states', 'plan', 'put', 'big', 'group', 'point']\n",
      "* topic 3 *\n",
      "['company', 'change', 'point', 'state', 'country', 'group', 'man', 'big', 'put', 'thing']\n",
      "* topic 4 *\n",
      "['official', 'percent', 'state', 'group', 'man', 'member', 'plan', 'close', 'report', 'company']\n",
      "* topic 5 *\n",
      "['group', 'yesterday', 'play', 'american', 'issue', 'state', 'percent', 'ask', 'man', 'member']\n",
      "* topic 6 *\n",
      "['play', 'company', 'man', 'percent', 'country', 'start', 'yesterday', 'move', 'life', 'official']\n",
      "* topic 7 *\n",
      "['official', 'percent', 'place', 'put', 'american', 'company', 'start', 'hold', 'states', 'thing']\n",
      "* topic 8 *\n",
      "['point', 'company', 'put', 'place', 'thing', 'government', 'play', 'second', 'tell', 'plan']\n",
      "* topic 9 *\n",
      "['group', 'percent', 'state', 'man', 'play', 'official', 'company', 'plan', 'move', 'big']\n",
      "* topic 10 *\n",
      "['official', 'company', 'play', 'percent', 'place', 'country', 'city', 'close', 'little', 'expect']\n",
      "* topic 11 *\n",
      "['percent', 'company', 'play', 'official', 'thing', 'large', 'man', 'problem', 'state', 'little']\n",
      "* topic 12 *\n",
      "['state', 'plan', 'states', 'percent', 'big', 'company', 'tell', 'keep', 'member', 'hold']\n",
      "* topic 13 *\n",
      "['state', 'percent', 'change', 'home', 'group', 'place', 'put', 'company', 'official', 'issue']\n",
      "* topic 14 *\n",
      "['place', 'move', 'percent', 'state', 'tell', 'play', 'states', 'case', 'close', 'yesterday']\n",
      "* topic 15 *\n",
      "['play', 'company', 'great', 'place', 'ask', 'small', 'plan', 'program', 'city', 'percent']\n",
      "* topic 16 *\n",
      "['change', 'states', 'start', 'government', 'play', 'official', 'point', 'report', 'turn', 'american']\n",
      "* topic 17 *\n",
      "['tell', 'play', 'percent', 'official', 'thing', 'company', 'states', 'plan', 'city', 'keep']\n",
      "* topic 18 *\n",
      "['percent', 'place', 'company', 'states', 'home', 'official', 'tell', 'state', 'move', 'start']\n",
      "* topic 19 *\n",
      "['official', 'hold', 'percent', 'life', 'keep', 'add', 'plan', 'play', 'country', 'move']\n",
      "* topic 20 *\n",
      "['company', 'point', 'public', 'start', 'thing', 'large', 'open', 'plan', 'group', 'ask']\n",
      "* topic 21 *\n",
      "['company', 'program', 'states', 'big', 'state', 'tell', 'american', 'thing', 'add', 'percent']\n",
      "* topic 22 *\n",
      "['company', 'states', 'official', 'state', 'play', 'man', 'tell', 'program', 'percent', 'plan']\n",
      "* topic 23 *\n",
      "['home', 'state', 'percent', 'tell', 'company', 'move', 'place', 'point', 'states', 'ask']\n",
      "* topic 24 *\n",
      "['point', 'official', 'play', 'government', 'percent', 'thing', 'start', 'program', 'place', 'company']\n",
      "* topic 25 *\n",
      "['play', 'life', 'group', 'public', 'point', 'company', 'change', 'early', 'put', 'ago']\n",
      "* topic 26 *\n",
      "['tell', 'point', 'company', 'plan', 'man', 'report', 'percent', 'states', 'group', 'offer']\n",
      "* topic 27 *\n",
      "['percent', 'official', 'point', 'company', 'thing', 'add', 'issue', 'member', 'group', 'put']\n",
      "* topic 28 *\n",
      "['official', 'start', 'tell', 'turn', 'percent', 'ask', 'state', 'point', 'company', 'place']\n",
      "* topic 29 *\n",
      "['official', 'put', 'country', 'ago', 'pay', 'start', 'world', 'thing', 'tell', 'man']\n"
     ]
    }
   ],
   "source": [
    "get_top_words_per_topic(t_logits, top_k=10)"
   ]
  },
  {
   "cell_type": "markdown",
   "metadata": {},
   "source": [
    "#### To Be Improved: Posterior Collapse in VAE causing topic collapse"
   ]
  }
 ],
 "metadata": {
  "anaconda-cloud": {},
  "kernelspec": {
   "display_name": "Python [conda env:anaconda3]",
   "language": "python",
   "name": "conda-env-anaconda3-py"
  },
  "language_info": {
   "codemirror_mode": {
    "name": "ipython",
    "version": 3
   },
   "file_extension": ".py",
   "mimetype": "text/x-python",
   "name": "python",
   "nbconvert_exporter": "python",
   "pygments_lexer": "ipython3",
   "version": "3.5.6"
  },
  "widgets": {
   "state": {
    "ad8414536644455f8db70e096711de3f": {
     "views": [
      {
       "cell_index": 14
      }
     ]
    },
    "d9b4fa8291c3492c843c1d35686292dd": {
     "views": [
      {
       "cell_index": 7
      }
     ]
    }
   },
   "version": "1.2.0"
  }
 },
 "nbformat": 4,
 "nbformat_minor": 1
}
