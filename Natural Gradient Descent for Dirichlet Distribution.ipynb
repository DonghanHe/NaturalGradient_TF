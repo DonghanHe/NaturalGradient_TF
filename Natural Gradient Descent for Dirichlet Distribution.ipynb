{
 "cells": [
  {
   "cell_type": "code",
   "execution_count": 1,
   "metadata": {
    "collapsed": true
   },
   "outputs": [],
   "source": [
    "import tensorflow as tf\n",
    "import tensorflow_probability as tfp\n",
    "import numpy as np\n",
    "import matplotlib.pyplot as plt\n",
    "%matplotlib inline\n",
    "tfd = tfp.distributions\n",
    "from tqdm import tqdm_notebook as tqdm, trange\n",
    "tfd = tfp.distributions"
   ]
  },
  {
   "cell_type": "markdown",
   "metadata": {},
   "source": [
    "First we want to give the Fisher information, and find a cheap way to invert it (Sherman Morrison)"
   ]
  },
  {
   "cell_type": "code",
   "execution_count": 729,
   "metadata": {
    "collapsed": false
   },
   "outputs": [],
   "source": [
    "def _calculate_rankone(alphas):\n",
    "    alpha0 = tf.reduce_sum(alphas, axis = -1)\n",
    "    dg_a0 = tf.math.polygamma(1., alpha0)\n",
    "    res = tf.transpose(dg_a0 * tf.ones((alphas.shape[1], alphas.shape[1], alphas.shape[0], )), (2, 0, 1)) # a more readable way of writing this is probably einsum\n",
    "    return res\n",
    "\n",
    "def dirichlet_fisher(alphas):\n",
    "    dg_a = tf.math.polygamma(1., alphas)\n",
    "    D = tf.linalg.diag(dg_a)\n",
    "    R1 = _calculate_rankone(alphas)\n",
    "    \n",
    "    return D-R1\n",
    "\n",
    "@tf.function\n",
    "def dirichlet_fisher_inv(alphas):\n",
    "    alpha0 = tf.reduce_sum(alphas, axis=-1)\n",
    "    dg_a0 = tf.math.polygamma(1., alpha0)\n",
    "    dg_a = tf.math.polygamma(1., alphas)\n",
    "    inv_dg_a = 1/dg_a\n",
    "    \n",
    "    A_inv = tf.linalg.diag(inv_dg_a) # part 1\n",
    "    \n",
    "    A_inv_mul_one = inv_dg_a # part 2\n",
    "    corr_top = tf.einsum('ki,kj->kij', A_inv_mul_one, A_inv_mul_one)\n",
    "    corr_bot = 1/(-dg_a0) + tf.reduce_sum(inv_dg_a, axis = -1)\n",
    "\n",
    "    return (A_inv - corr_top/tf.reshape(corr_bot, (-1, 1, 1)))\n",
    "\n",
    "@tf.function\n",
    "def multiply_by_fisher_inv(alphas, x):\n",
    "    # alphas is of shape (N, D)\n",
    "    # x of shape (N, D)\n",
    "    alpha0 = tf.reduce_sum(alphas, axis=-1, keepdims = True)\n",
    "    dg_a0 = tf.math.polygamma(1., alpha0)\n",
    "    dg_a = tf.math.polygamma(1., alphas)\n",
    "    inv_dg_a = 1/dg_a\n",
    "    \n",
    "    # first get the multiply by inv diag matrix\n",
    "    A_inv_mul_x = inv_dg_a * x\n",
    "    Corr_top_mul_x = inv_dg_a * tf.reduce_sum(A_inv_mul_x, axis=-1, keepdims=True) # (N, D) * (N, 1)\n",
    "    Corr_bot = 1/(-dg_a0) + tf.reduce_sum(inv_dg_a, axis = -1, keepdims = True)\n",
    "    Corr_mul_x = Corr_top_mul_x/Corr_bot\n",
    "    \n",
    "    return A_inv_mul_x - Corr_mul_x"
   ]
  },
  {
   "cell_type": "code",
   "execution_count": 738,
   "metadata": {
    "collapsed": true
   },
   "outputs": [],
   "source": [
    "ts=(50,100)\n",
    "tas = np.exp(np.random.uniform(size=ts)).astype('float32')\n",
    "tas_tfv = tf.Variable(tas)\n",
    "tx = np.random.normal(size=ts).astype('float32')"
   ]
  },
  {
   "cell_type": "code",
   "execution_count": 739,
   "metadata": {
    "collapsed": false
   },
   "outputs": [
    {
     "name": "stdout",
     "output_type": "stream",
     "text": [
      "The slowest run took 14.02 times longer than the fastest. This could mean that an intermediate result is being cached.\n",
      "100 loops, best of 3: 2.14 ms per loop\n"
     ]
    }
   ],
   "source": [
    "%timeit tf.einsum('ijk,ik->ij', dirichlet_fisher_inv(tas), tx)"
   ]
  },
  {
   "cell_type": "code",
   "execution_count": 740,
   "metadata": {
    "collapsed": false
   },
   "outputs": [
    {
     "name": "stdout",
     "output_type": "stream",
     "text": [
      "The slowest run took 22.08 times longer than the fastest. This could mean that an intermediate result is being cached.\n",
      "1000 loops, best of 3: 1.21 ms per loop\n"
     ]
    }
   ],
   "source": [
    "%timeit multiply_by_fisher_inv(tas, tx)"
   ]
  },
  {
   "cell_type": "code",
   "execution_count": 565,
   "metadata": {
    "collapsed": false
   },
   "outputs": [
    {
     "name": "stderr",
     "output_type": "stream",
     "text": [
      "W0603 22:11:53.096261 4376067584 def_function.py:120] 11 out of the last 11 calls to <function pfor.<locals>.f at 0x7fd3ede1eea0> triggered tf.function retracing. Tracing is expensive and the excessive number of tracings could be due to (1) creating @tf.function repeatedly in a loop, (2) passing tensors with different shapes, (3) passing Python objects instead of tensors. For (1), please define your @tf.function outside of the loop. For (2), @tf.function has experimental_relax_shapes=True option that relaxes argument shapes that can avoid unnecessary retracing. For (3), please refer to https://www.tensorflow.org/tutorials/customization/performance#python_or_tensor_args and https://www.tensorflow.org/api_docs/python/tf/function for  more details.\n",
      "W0603 22:11:53.431252 4376067584 def_function.py:120] 11 out of the last 11 calls to <function pfor.<locals>.f at 0x7fd3ede1eea0> triggered tf.function retracing. Tracing is expensive and the excessive number of tracings could be due to (1) creating @tf.function repeatedly in a loop, (2) passing tensors with different shapes, (3) passing Python objects instead of tensors. For (1), please define your @tf.function outside of the loop. For (2), @tf.function has experimental_relax_shapes=True option that relaxes argument shapes that can avoid unnecessary retracing. For (3), please refer to https://www.tensorflow.org/tutorials/customization/performance#python_or_tensor_args and https://www.tensorflow.org/api_docs/python/tf/function for  more details.\n"
     ]
    }
   ],
   "source": [
    "with tf.GradientTape() as tape_:\n",
    "    with tf.GradientTape() as tape:\n",
    "        loss = -tf.reduce_sum(tfd.Dirichlet(tas_tfv).log_prob(np.ones((5, 10))))\n",
    "    dJda = tape.jacobian(loss, [tas_tfv,])[0]\n",
    "s = tape_.jacobian(dJda, [tas_tfv,])\n"
   ]
  },
  {
   "cell_type": "markdown",
   "metadata": {},
   "source": [
    "tf autodiff results"
   ]
  },
  {
   "cell_type": "code",
   "execution_count": 566,
   "metadata": {
    "collapsed": false
   },
   "outputs": [
    {
     "data": {
      "text/plain": [
       "<tf.Tensor: shape=(10, 10), dtype=float32, numpy=\n",
       "array([[ 0.4253827 , -0.05337556, -0.05337556, -0.05337556, -0.05337556,\n",
       "        -0.05337556, -0.05337556, -0.05337556, -0.05337556, -0.05337556],\n",
       "       [-0.05337556,  0.59990466, -0.05337556, -0.05337556, -0.05337556,\n",
       "        -0.05337556, -0.05337556, -0.05337556, -0.05337556, -0.05337556],\n",
       "       [-0.05337556, -0.05337556,  0.4728442 , -0.05337556, -0.05337556,\n",
       "        -0.05337556, -0.05337556, -0.05337556, -0.05337556, -0.05337556],\n",
       "       [-0.05337556, -0.05337556, -0.05337556,  1.052947  , -0.05337556,\n",
       "        -0.05337556, -0.05337556, -0.05337556, -0.05337556, -0.05337556],\n",
       "       [-0.05337556, -0.05337556, -0.05337556, -0.05337556,  0.554247  ,\n",
       "        -0.05337556, -0.05337556, -0.05337556, -0.05337556, -0.05337556],\n",
       "       [-0.05337556, -0.05337556, -0.05337556, -0.05337556, -0.05337556,\n",
       "         0.58102   , -0.05337556, -0.05337556, -0.05337556, -0.05337556],\n",
       "       [-0.05337556, -0.05337556, -0.05337556, -0.05337556, -0.05337556,\n",
       "        -0.05337556,  0.84359586, -0.05337556, -0.05337556, -0.05337556],\n",
       "       [-0.05337556, -0.05337556, -0.05337556, -0.05337556, -0.05337556,\n",
       "        -0.05337556, -0.05337556,  0.43245023, -0.05337556, -0.05337556],\n",
       "       [-0.05337556, -0.05337556, -0.05337556, -0.05337556, -0.05337556,\n",
       "        -0.05337556, -0.05337556, -0.05337556,  0.7578431 , -0.05337556],\n",
       "       [-0.05337556, -0.05337556, -0.05337556, -0.05337556, -0.05337556,\n",
       "        -0.05337556, -0.05337556, -0.05337556, -0.05337556,  1.2814429 ]],\n",
       "      dtype=float32)>"
      ]
     },
     "execution_count": 566,
     "metadata": {},
     "output_type": "execute_result"
    }
   ],
   "source": [
    "tf.reshape(s, (50, 50))[:10, :10]"
   ]
  },
  {
   "cell_type": "code",
   "execution_count": 569,
   "metadata": {
    "collapsed": false
   },
   "outputs": [
    {
     "data": {
      "text/plain": [
       "array([[ 1.5485755 , -0.05973797, -0.05973797, -0.05973797, -0.05973797,\n",
       "        -0.05973797, -0.05973797, -0.05973797, -0.05973797, -0.05973797],\n",
       "       [-0.05973797,  0.6674333 , -0.05973797, -0.05973797, -0.05973797,\n",
       "        -0.05973797, -0.05973797, -0.05973797, -0.05973797, -0.05973797],\n",
       "       [-0.05973797, -0.05973797,  1.3215861 , -0.05973797, -0.05973797,\n",
       "        -0.05973797, -0.05973797, -0.05973797, -0.05973797, -0.05973797],\n",
       "       [-0.05973797, -0.05973797, -0.05973797,  0.45904303, -0.05973797,\n",
       "        -0.05973797, -0.05973797, -0.05973797, -0.05973797, -0.05973797],\n",
       "       [-0.05973797, -0.05973797, -0.05973797, -0.05973797,  0.4951418 ,\n",
       "        -0.05973797, -0.05973797, -0.05973797, -0.05973797, -0.05973797],\n",
       "       [-0.05973797, -0.05973797, -0.05973797, -0.05973797, -0.05973797,\n",
       "         0.46172208, -0.05973797, -0.05973797, -0.05973797, -0.05973797],\n",
       "       [-0.05973797, -0.05973797, -0.05973797, -0.05973797, -0.05973797,\n",
       "        -0.05973797,  0.8622595 , -0.05973797, -0.05973797, -0.05973797],\n",
       "       [-0.05973797, -0.05973797, -0.05973797, -0.05973797, -0.05973797,\n",
       "        -0.05973797, -0.05973797,  0.70738256, -0.05973797, -0.05973797],\n",
       "       [-0.05973797, -0.05973797, -0.05973797, -0.05973797, -0.05973797,\n",
       "        -0.05973797, -0.05973797, -0.05973797,  0.96723   , -0.05973797],\n",
       "       [-0.05973797, -0.05973797, -0.05973797, -0.05973797, -0.05973797,\n",
       "        -0.05973797, -0.05973797, -0.05973797, -0.05973797,  0.8040707 ]],\n",
       "      dtype=float32)"
      ]
     },
     "execution_count": 569,
     "metadata": {},
     "output_type": "execute_result"
    }
   ],
   "source": [
    "tf.reshape(s, (50, 50)).numpy()[10:20, 10:20]"
   ]
  },
  {
   "cell_type": "markdown",
   "metadata": {},
   "source": [
    "My implementation"
   ]
  },
  {
   "cell_type": "code",
   "execution_count": 567,
   "metadata": {
    "collapsed": false
   },
   "outputs": [
    {
     "data": {
      "text/plain": [
       "<tf.Tensor: shape=(10, 10), dtype=float32, numpy=\n",
       "array([[ 0.4253827 , -0.05337556, -0.05337556, -0.05337556, -0.05337556,\n",
       "        -0.05337556, -0.05337556, -0.05337556, -0.05337556, -0.05337556],\n",
       "       [-0.05337556,  0.59990466, -0.05337556, -0.05337556, -0.05337556,\n",
       "        -0.05337556, -0.05337556, -0.05337556, -0.05337556, -0.05337556],\n",
       "       [-0.05337556, -0.05337556,  0.4728442 , -0.05337556, -0.05337556,\n",
       "        -0.05337556, -0.05337556, -0.05337556, -0.05337556, -0.05337556],\n",
       "       [-0.05337556, -0.05337556, -0.05337556,  1.052947  , -0.05337556,\n",
       "        -0.05337556, -0.05337556, -0.05337556, -0.05337556, -0.05337556],\n",
       "       [-0.05337556, -0.05337556, -0.05337556, -0.05337556,  0.554247  ,\n",
       "        -0.05337556, -0.05337556, -0.05337556, -0.05337556, -0.05337556],\n",
       "       [-0.05337556, -0.05337556, -0.05337556, -0.05337556, -0.05337556,\n",
       "         0.58102   , -0.05337556, -0.05337556, -0.05337556, -0.05337556],\n",
       "       [-0.05337556, -0.05337556, -0.05337556, -0.05337556, -0.05337556,\n",
       "        -0.05337556,  0.84359586, -0.05337556, -0.05337556, -0.05337556],\n",
       "       [-0.05337556, -0.05337556, -0.05337556, -0.05337556, -0.05337556,\n",
       "        -0.05337556, -0.05337556,  0.43245023, -0.05337556, -0.05337556],\n",
       "       [-0.05337556, -0.05337556, -0.05337556, -0.05337556, -0.05337556,\n",
       "        -0.05337556, -0.05337556, -0.05337556,  0.7578431 , -0.05337556],\n",
       "       [-0.05337556, -0.05337556, -0.05337556, -0.05337556, -0.05337556,\n",
       "        -0.05337556, -0.05337556, -0.05337556, -0.05337556,  1.2814429 ]],\n",
       "      dtype=float32)>"
      ]
     },
     "execution_count": 567,
     "metadata": {},
     "output_type": "execute_result"
    }
   ],
   "source": [
    "dirichlet_fisher(tas)[0]"
   ]
  },
  {
   "cell_type": "code",
   "execution_count": 568,
   "metadata": {
    "collapsed": false
   },
   "outputs": [
    {
     "data": {
      "text/plain": [
       "<tf.Tensor: shape=(10, 10), dtype=float32, numpy=\n",
       "array([[ 1.5485755 , -0.05973797, -0.05973797, -0.05973797, -0.05973797,\n",
       "        -0.05973797, -0.05973797, -0.05973797, -0.05973797, -0.05973797],\n",
       "       [-0.05973797,  0.6674333 , -0.05973797, -0.05973797, -0.05973797,\n",
       "        -0.05973797, -0.05973797, -0.05973797, -0.05973797, -0.05973797],\n",
       "       [-0.05973797, -0.05973797,  1.3215861 , -0.05973797, -0.05973797,\n",
       "        -0.05973797, -0.05973797, -0.05973797, -0.05973797, -0.05973797],\n",
       "       [-0.05973797, -0.05973797, -0.05973797,  0.45904303, -0.05973797,\n",
       "        -0.05973797, -0.05973797, -0.05973797, -0.05973797, -0.05973797],\n",
       "       [-0.05973797, -0.05973797, -0.05973797, -0.05973797,  0.4951418 ,\n",
       "        -0.05973797, -0.05973797, -0.05973797, -0.05973797, -0.05973797],\n",
       "       [-0.05973797, -0.05973797, -0.05973797, -0.05973797, -0.05973797,\n",
       "         0.46172208, -0.05973797, -0.05973797, -0.05973797, -0.05973797],\n",
       "       [-0.05973797, -0.05973797, -0.05973797, -0.05973797, -0.05973797,\n",
       "        -0.05973797,  0.8622595 , -0.05973797, -0.05973797, -0.05973797],\n",
       "       [-0.05973797, -0.05973797, -0.05973797, -0.05973797, -0.05973797,\n",
       "        -0.05973797, -0.05973797,  0.70738256, -0.05973797, -0.05973797],\n",
       "       [-0.05973797, -0.05973797, -0.05973797, -0.05973797, -0.05973797,\n",
       "        -0.05973797, -0.05973797, -0.05973797,  0.96723   , -0.05973797],\n",
       "       [-0.05973797, -0.05973797, -0.05973797, -0.05973797, -0.05973797,\n",
       "        -0.05973797, -0.05973797, -0.05973797, -0.05973797,  0.8040707 ]],\n",
       "      dtype=float32)>"
      ]
     },
     "execution_count": 568,
     "metadata": {},
     "output_type": "execute_result"
    }
   ],
   "source": [
    "dirichlet_fisher(tas)[1]"
   ]
  },
  {
   "cell_type": "markdown",
   "metadata": {},
   "source": [
    "The Sherman Morrison formula will be faster than naive inversion, and more stable"
   ]
  },
  {
   "cell_type": "code",
   "execution_count": 665,
   "metadata": {
    "collapsed": false
   },
   "outputs": [
    {
     "data": {
      "text/plain": [
       "<tf.Tensor: shape=(), dtype=float32, numpy=9.536743e-07>"
      ]
     },
     "execution_count": 665,
     "metadata": {},
     "output_type": "execute_result"
    }
   ],
   "source": [
    "tf.reduce_max(tf.linalg.inv(dirichlet_fisher(tas)) - dirichlet_fisher_inv(tas))"
   ]
  },
  {
   "cell_type": "code",
   "execution_count": 571,
   "metadata": {
    "collapsed": false
   },
   "outputs": [
    {
     "name": "stdout",
     "output_type": "stream",
     "text": [
      "The slowest run took 4.63 times longer than the fastest. This could mean that an intermediate result is being cached.\n",
      "1000 loops, best of 3: 242 µs per loop\n"
     ]
    }
   ],
   "source": [
    "%timeit tf.linalg.inv(dirichlet_fisher(tas))"
   ]
  },
  {
   "cell_type": "code",
   "execution_count": 572,
   "metadata": {
    "collapsed": false
   },
   "outputs": [
    {
     "name": "stdout",
     "output_type": "stream",
     "text": [
      "1000 loops, best of 3: 196 µs per loop\n"
     ]
    }
   ],
   "source": [
    "%timeit dirichlet_fisher_inv(tas)"
   ]
  },
  {
   "cell_type": "markdown",
   "metadata": {},
   "source": [
    "### Now let's fit a model with Dirichlet distribution"
   ]
  },
  {
   "cell_type": "markdown",
   "metadata": {},
   "source": [
    "Let's first fit a simple scenario: \n",
    "\n",
    "for $ x_n \\sim Dir(\\alpha)$, we want to find\n",
    "\n",
    "$$ \\arg\\max_{\\alpha} \\sum_{n}\\log p(x_n | \\alpha) $$\n",
    "\n",
    "We simply build nonnegative parameters $a$, forward propagate with identity(a), backward propagate with $\\partial a I(a)^{-1}$"
   ]
  },
  {
   "cell_type": "code",
   "execution_count": 715,
   "metadata": {
    "collapsed": false
   },
   "outputs": [],
   "source": [
    "# we fit T Dirichlet of length K\n",
    "N = 1000\n",
    "K = 50\n",
    "T = 30\n",
    "baseline_a = 0.5\n",
    "true_alpha = np.ones((T, K)).astype('float32').reshape((T, K)) * baseline_a\n",
    "X = tfd.Dirichlet(true_alpha).sample(N)"
   ]
  },
  {
   "cell_type": "code",
   "execution_count": 719,
   "metadata": {
    "collapsed": false
   },
   "outputs": [],
   "source": [
    "# first do the normal gradient version\n",
    "params_gd = tf.Variable(tf.initializers.GlorotNormal()((T, K)))\n",
    "opt_gd = tf.keras.optimizers.Adam(1e-1)"
   ]
  },
  {
   "cell_type": "code",
   "execution_count": 720,
   "metadata": {
    "collapsed": false
   },
   "outputs": [],
   "source": [
    "def gradient_based_solution(params, opt, epochs, verbose = True):\n",
    "    loss_rec = []\n",
    "    tqdm_range = tqdm(range(epochs))\n",
    "\n",
    "    for e in tqdm_range:\n",
    "        with tf.GradientTape() as tape:\n",
    "            alpha_hat = tf.math.exp(params)\n",
    "            dirichlet = tfd.Dirichlet(alpha_hat)\n",
    "            loss = -tf.reduce_mean(dirichlet.log_prob(X))\n",
    "\n",
    "        grads = tape.gradient(loss, [params,])\n",
    "        opt.apply_gradients(zip(grads, [params,]))\n",
    "        loss_rec.append(tf.reduce_sum(loss))\n",
    "        tqdm_range.set_description(\"loss: {:.2f}\".format(tf.reduce_sum(loss).numpy()), refresh = True)\n",
    "    \n",
    "    if verbose:\n",
    "        plt.plot(loss_rec)\n",
    "        plt.show()\n",
    "    \n",
    "    return loss_rec"
   ]
  },
  {
   "cell_type": "code",
   "execution_count": 721,
   "metadata": {
    "collapsed": false
   },
   "outputs": [
    {
     "data": {
      "image/png": "[encoded data removed]",
      "text/plain": [
       "<matplotlib.figure.Figure at 0x7fd3cf6e4ba8>"
      ]
     },
     "metadata": {},
     "output_type": "display_data"
    }
   ],
   "source": [
    "loss_gd = gradient_based_solution(params_gd, opt_gd, 100)"
   ]
  },
  {
   "cell_type": "code",
   "execution_count": 722,
   "metadata": {
    "collapsed": false
   },
   "outputs": [
    {
     "data": {
      "text/plain": [
       "<tf.Tensor: shape=(30, 50), dtype=float32, numpy=\n",
       "array([[0.50182974, 0.5123689 , 0.5300978 , ..., 0.49764228, 0.5112477 ,\n",
       "        0.5101792 ],\n",
       "       [0.49546367, 0.50833195, 0.51665086, ..., 0.49280983, 0.52041316,\n",
       "        0.5037779 ],\n",
       "       [0.4915591 , 0.5043517 , 0.5088133 , ..., 0.4910881 , 0.48700076,\n",
       "        0.48871067],\n",
       "       ...,\n",
       "       [0.4875482 , 0.4972916 , 0.5049345 , ..., 0.5110466 , 0.5093135 ,\n",
       "        0.48865536],\n",
       "       [0.52456087, 0.50923556, 0.5006904 , ..., 0.5044697 , 0.5142641 ,\n",
       "        0.49270153],\n",
       "       [0.5146054 , 0.483903  , 0.510103  , ..., 0.5025521 , 0.4991735 ,\n",
       "        0.4975885 ]], dtype=float32)>"
      ]
     },
     "execution_count": 722,
     "metadata": {},
     "output_type": "execute_result"
    }
   ],
   "source": [
    "tf.math.exp(params_gd)"
   ]
  },
  {
   "cell_type": "code",
   "execution_count": 723,
   "metadata": {
    "collapsed": false
   },
   "outputs": [],
   "source": [
    "# natural gradient version\n",
    "@tf.custom_gradient\n",
    "def natural_gradient_on_backprop(a, ):\n",
    "    def grad(da):\n",
    "        Ia = dirichlet_fisher_inv(a)\n",
    "        da_tilde = tf.einsum(\"tmn,tn->tm\", Ia, da)\n",
    "        return da_tilde\n",
    "    return tf.identity(a), grad\n",
    "\n",
    "# gradient works?\n",
    "@tf.custom_gradient\n",
    "def gradient_on_backprop(a, ):\n",
    "    def grad(da):\n",
    "        return da\n",
    "    return tf.identity(a), grad"
   ]
  },
  {
   "cell_type": "code",
   "execution_count": 724,
   "metadata": {
    "collapsed": false
   },
   "outputs": [],
   "source": [
    "params_ngd = tf.Variable(tf.initializers.GlorotNormal()((T, K)))\n",
    "# params_ngd = tf.Variable(tf.initializers.Zeros()((T, K)))\n",
    "opt_ngd = tf.keras.optimizers.SGD(10.0)"
   ]
  },
  {
   "cell_type": "code",
   "execution_count": 725,
   "metadata": {
    "collapsed": false
   },
   "outputs": [],
   "source": [
    "def natural_gradient_based_solution(params, opt, epochs, verbose = True):\n",
    "    loss_rec = []\n",
    "    tqdm_range = tqdm(range(epochs))\n",
    "\n",
    "    for e in tqdm_range:\n",
    "        with tf.GradientTape() as tape:\n",
    "    #         alpha_hat = gradient_on_backprop(tf.math.exp(params_ngd))\n",
    "            alpha_hat = natural_gradient_on_backprop(tf.math.exp(params))\n",
    "            dirichlet = tfd.Dirichlet(alpha_hat)\n",
    "            loss = -tf.reduce_mean(dirichlet.log_prob(X))\n",
    "\n",
    "        grads = tape.gradient(loss, [params,])\n",
    "        opt.apply_gradients(zip(grads, [params,]))\n",
    "        loss_rec.append(loss.numpy())\n",
    "        tqdm_range.set_description(\"loss: {:.2f}\".format(loss.numpy()), refresh = True)\n",
    "\n",
    "    if verbose:\n",
    "        plt.plot(loss_rec)\n",
    "        plt.show()\n",
    "    \n",
    "    return loss_rec"
   ]
  },
  {
   "cell_type": "code",
   "execution_count": 726,
   "metadata": {
    "collapsed": false
   },
   "outputs": [
    {
     "data": {
      "image/png": "[encoded data removed]",
      "text/plain": [
       "<matplotlib.figure.Figure at 0x7fd3cfedc438>"
      ]
     },
     "metadata": {},
     "output_type": "display_data"
    }
   ],
   "source": [
    "loss_ngd = natural_gradient_based_solution(params_ngd, opt_ngd, 100)"
   ]
  },
  {
   "cell_type": "code",
   "execution_count": 727,
   "metadata": {
    "collapsed": false
   },
   "outputs": [
    {
     "data": {
      "image/png": "[encoded data removed]",
      "text/plain": [
       "<matplotlib.figure.Figure at 0x7fd3d0ed0a20>"
      ]
     },
     "metadata": {},
     "output_type": "display_data"
    }
   ],
   "source": [
    "plt.plot(loss_ngd, label='natural gradient descent')\n",
    "plt.plot(loss_gd, label='adam gradient descent')\n",
    "plt.legend()\n",
    "plt.grid()\n",
    "plt.show()"
   ]
  },
  {
   "cell_type": "code",
   "execution_count": 728,
   "metadata": {
    "collapsed": false
   },
   "outputs": [
    {
     "data": {
      "text/plain": [
       "<tf.Tensor: shape=(30, 50), dtype=float32, numpy=\n",
       "array([[0.50260955, 0.5124561 , 0.5291188 , ..., 0.50191057, 0.5116314 ,\n",
       "        0.51029104],\n",
       "       [0.49563968, 0.50896084, 0.5170311 , ..., 0.49354663, 0.52075803,\n",
       "        0.5041253 ],\n",
       "       [0.4930572 , 0.5053195 , 0.5106938 , ..., 0.49280816, 0.4875715 ,\n",
       "        0.4893908 ],\n",
       "       ...,\n",
       "       [0.48790887, 0.49566606, 0.5050567 , ..., 0.51088935, 0.5092869 ,\n",
       "        0.48891598],\n",
       "       [0.5244851 , 0.50973135, 0.5010865 , ..., 0.50427765, 0.51521814,\n",
       "        0.49237084],\n",
       "       [0.5144611 , 0.4876577 , 0.5126553 , ..., 0.5027778 , 0.49962112,\n",
       "        0.49782112]], dtype=float32)>"
      ]
     },
     "execution_count": 728,
     "metadata": {},
     "output_type": "execute_result"
    }
   ],
   "source": [
    "tf.math.exp(params_ngd)"
   ]
  },
  {
   "cell_type": "code",
   "execution_count": null,
   "metadata": {
    "collapsed": true
   },
   "outputs": [],
   "source": []
  }
 ],
 "metadata": {
  "anaconda-cloud": {},
  "kernelspec": {
   "display_name": "Python [conda env:anaconda3]",
   "language": "python",
   "name": "conda-env-anaconda3-py"
  },
  "language_info": {
   "codemirror_mode": {
    "name": "ipython",
    "version": 3
   },
   "file_extension": ".py",
   "mimetype": "text/x-python",
   "name": "python",
   "nbconvert_exporter": "python",
   "pygments_lexer": "ipython3",
   "version": "3.5.6"
  },
  "widgets": {
   "state": {
    "abd37fabebd941dfb0baf05a43aa6073": {
     "views": [
      {
       "cell_index": 20
      }
     ]
    },
    "ff9e2f18b8634b36a439438851d93773": {
     "views": [
      {
       "cell_index": 25
      }
     ]
    }
   },
   "version": "1.2.0"
  }
 },
 "nbformat": 4,
 "nbformat_minor": 1
}
