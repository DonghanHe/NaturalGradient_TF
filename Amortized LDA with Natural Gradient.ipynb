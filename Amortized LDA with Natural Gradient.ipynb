{
 "cells": [
  {
   "cell_type": "code",
   "execution_count": 1,
   "metadata": {
    "collapsed": true
   },
   "outputs": [],
   "source": [
    "import tensorflow as tf\n",
    "import tensorflow_probability as tfp\n",
    "import numpy as np\n",
    "import matplotlib.pyplot as plt\n",
    "%matplotlib inline\n",
    "tfd = tfp.distributions\n",
    "from tqdm import tqdm_notebook as tqdm, trange"
   ]
  },
  {
   "cell_type": "code",
   "execution_count": 2,
   "metadata": {
    "collapsed": true
   },
   "outputs": [],
   "source": [
    "with open('hw4_data/nyt_data.txt') as f:\n",
    "    raw_file = f.readlines()\n",
    "\n",
    "word_to_id = {}\n",
    "id_to_word = {}\n",
    "\n",
    "usa = open('hw4_data/nyt_vocab.dat')\n",
    "counter = 0\n",
    "for line in usa:\n",
    "    word = line.strip()\n",
    "    word_to_id[word] = counter\n",
    "    id_to_word[counter] = word\n",
    "    counter+=1\n",
    "    \n",
    "word_list = []\n",
    "count_list = []\n",
    "\n",
    "for _,doc in enumerate(raw_file):\n",
    "    words = doc.strip().split(',')\n",
    "    w_l = []\n",
    "    c_l = []\n",
    "    \n",
    "    for vocab in words:\n",
    "        ind, num = vocab.split(':')\n",
    "        w_l.append(int(ind)-1)\n",
    "        c_l.append(int(num))\n",
    "    \n",
    "    word_list.append(w_l)\n",
    "    count_list.append(c_l)"
   ]
  },
  {
   "cell_type": "code",
   "execution_count": 3,
   "metadata": {
    "collapsed": true
   },
   "outputs": [],
   "source": [
    "padded_words = tf.keras.preprocessing.sequence.pad_sequences(word_list, padding = 'post', value = 0)\n",
    "padded_counts = tf.keras.preprocessing.sequence.pad_sequences(count_list, padding = 'post', value = 0)"
   ]
  },
  {
   "cell_type": "code",
   "execution_count": 17,
   "metadata": {
    "collapsed": true
   },
   "outputs": [],
   "source": [
    "def make_encoder(num_layers, dim, T, V, L, activation = 'relu', residual = False):\n",
    "    # we build a keras sequential model with prescribed model\n",
    "    # first embed into the dimensions\n",
    "    inputs_w = tf.keras.Input(shape = (L, ))\n",
    "    inputs_c = tf.keras.Input(shape = (L, ))\n",
    "    embedded = tf.keras.layers.Embedding(V, dim)(inputs_w)\n",
    "    x = tf.reduce_sum(embedded * tf.expand_dims(inputs_c, axis = -1), axis = 1) # bow\n",
    "    \n",
    "    for l in range(num_layers):\n",
    "        if residual:\n",
    "            x = tf.keras.layers.Dense(dim, activation=activation)(x) + x\n",
    "        else:\n",
    "            x = tf.keras.layers.Dense(dim, activation=activation)(x)\n",
    "    \n",
    "    x = tf.keras.layers.Dense(T, activation = None)(x)\n",
    "    \n",
    "    encoder = tf.keras.Model(inputs = [inputs_w, inputs_c], outputs=x)\n",
    "    return encoder\n",
    "\n",
    "class sampler_indices:\n",
    "\n",
    "    def __init__(self, N, batch_size):\n",
    "        self.batch_size = batch_size\n",
    "        self.i = 0\n",
    "        self.N = N\n",
    "        self.ind = tf.range(self.N)\n",
    "        self.ind = tf.random.shuffle(self.ind)\n",
    "        \n",
    "    def take(self, ):\n",
    "        i0 = self.i%self.N\n",
    "        i1 = (self.i + self.batch_size)%self.N\n",
    "        \n",
    "        if i0 < i1:\n",
    "\n",
    "            self.i = i1\n",
    "            return self.ind[i0:i1]\n",
    "        \n",
    "        else:\n",
    "            x0 = self.ind[i0:]\n",
    "            x1 = self.ind[:i1]\n",
    "                \n",
    "            self.i = i1\n",
    "            self.ind = tf.random.shuffle(self.ind)\n",
    "            return np.concatenate((x0, x1), axis = 0)\n",
    "        \n",
    "@tf.custom_gradient\n",
    "def naive_natural_gradient_on_backprop(a, ):\n",
    "    def grad(da):\n",
    "        Ia = dirichlet_fisher_inv(a)\n",
    "        da_tilde = tf.einsum(\"tmn,tn->tm\", Ia, da)\n",
    "        return da_tilde\n",
    "    return tf.identity(a), grad\n",
    "\n",
    "@tf.custom_gradient\n",
    "def natural_gradient_on_backprop(a, ):\n",
    "    def grad(da):\n",
    "#         Ia = dirichlet_fisher_inv(a)\n",
    "#         da_tilde = tf.einsum(\"tmn,tn->tm\", Ia, da)\n",
    "        da_tilde = multiply_by_fisher_inv(a, da)\n",
    "        return da_tilde\n",
    "    return tf.identity(a), grad\n",
    "\n",
    "def _calculate_rankone(alphas):\n",
    "    alpha0 = tf.reduce_sum(alphas, axis = -1)\n",
    "    dg_a0 = tf.math.polygamma(1., alpha0)\n",
    "    res = tf.transpose(dg_a0 * tf.ones((alphas.shape[1], alphas.shape[1], alphas.shape[0], )), (2, 0, 1)) # a more readable way of writing this is probably einsum\n",
    "    return res\n",
    "\n",
    "def dirichlet_fisher(alphas):\n",
    "    dg_a = tf.math.polygamma(1., alphas)\n",
    "    D = tf.linalg.diag(dg_a)\n",
    "    R1 = _calculate_rankone(alphas)\n",
    "    \n",
    "    return D-R1\n",
    "\n",
    "@tf.function\n",
    "def dirichlet_fisher_inv(alphas):\n",
    "    alpha0 = tf.reduce_sum(alphas, axis=-1)\n",
    "    dg_a0 = tf.math.polygamma(1., alpha0)\n",
    "    dg_a = tf.math.polygamma(1., alphas)\n",
    "    inv_dg_a = 1/dg_a\n",
    "    \n",
    "    A_inv = tf.linalg.diag(inv_dg_a) # part 1\n",
    "    \n",
    "    A_inv_mul_one = inv_dg_a # part 2\n",
    "    corr_top = tf.einsum('ki,kj->kij', A_inv_mul_one, A_inv_mul_one)\n",
    "    corr_bot = 1/(-dg_a0) + tf.reduce_sum(inv_dg_a, axis = -1)\n",
    "\n",
    "    return (A_inv - corr_top/tf.reshape(corr_bot, (-1, 1, 1)))\n",
    "\n",
    "@tf.function\n",
    "def multiply_by_fisher_inv(alphas, x):\n",
    "    # alphas is of shape (N, D)\n",
    "    # x of shape (N, D)\n",
    "    alpha0 = tf.reduce_sum(alphas, axis=-1, keepdims = True)\n",
    "    dg_a0 = tf.math.polygamma(1., alpha0)\n",
    "    dg_a = tf.math.polygamma(1., alphas)\n",
    "    inv_dg_a = 1/dg_a\n",
    "    \n",
    "    # first get the multiply by inv diag matrix\n",
    "    A_inv_mul_x = inv_dg_a * x\n",
    "    Corr_top_mul_x = inv_dg_a * tf.reduce_sum(A_inv_mul_x, axis=-1, keepdims=True) # (N, D) * (N, 1)\n",
    "    Corr_bot = 1/(-dg_a0) + tf.reduce_sum(inv_dg_a, axis = -1, keepdims = True)\n",
    "    Corr_mul_x = Corr_top_mul_x/Corr_bot\n",
    "    \n",
    "    return A_inv_mul_x - Corr_mul_x\n",
    "\n",
    "def calculate_doc_probs3(d_probs, t_probs):\n",
    "    res = d_probs@t_probs\n",
    "    return res\n",
    "\n",
    "def get_top_words_per_topic2(topics, top_k = 20):\n",
    "    # doesn't matter they are logits or not.. exp is a monotonic function\n",
    "    top_words = tf.argsort(-topics, axis = -1)[:, :top_k]\n",
    "    res = []\n",
    "    for t in range(topics.shape[0]):\n",
    "        res.append([id_to_word[i.numpy()] for i in top_words[t, :]])\n",
    "    \n",
    "    return res"
   ]
  },
  {
   "cell_type": "code",
   "execution_count": 43,
   "metadata": {},
   "outputs": [],
   "source": [
    "def train_amortized_lda(\n",
    "    t_params, \n",
    "    d_encoder,\n",
    "    optimizer, \n",
    "    theta_prior = 1.,\n",
    "    beta_prior = 1.,\n",
    "    D = padded_words.shape[0],\n",
    "    scale = 1.,\n",
    "    epochs = 100, \n",
    "    natural = False, \n",
    "    batch_size = 64, \n",
    "    verbose = False,\n",
    "):\n",
    "    d_prior = tfd.Dirichlet(tf.ones((t_params.shape[0], )) * theta_prior)\n",
    "    t_prior = tfd.Dirichlet(tf.ones((t_params.shape[1], )) * beta_prior)\n",
    "    \n",
    "    epochs = epochs*(D//batch_size)\n",
    "    if verbose:\n",
    "        tqdm_range = trange(epochs, desc='-ELBo: ', position=0, leave=True)\n",
    "    else:\n",
    "        tqdm_range = range(epochs)\n",
    "    loss_records = []\n",
    "\n",
    "    for e in tqdm_range:\n",
    "        i = ind_sampler.take()\n",
    "        with tf.GradientTape() as tape:\n",
    "            w, c = tf.gather(padded_words, i, axis=0), tf.gather(tf.cast(padded_counts, 'float32'), i, axis=0)\n",
    "            d_logits_i = d_encoder([w, c])\n",
    "            if natural:\n",
    "                d_post = tfd.Dirichlet(natural_gradient_on_backprop(tf.math.softplus(d_logits_i)))\n",
    "            else:\n",
    "                d_post = tfd.Dirichlet(tf.math.softplus(d_logits_i))\n",
    "            d_sample = d_post.sample()\n",
    "            \n",
    "            if natural:\n",
    "                t_post = tfd.Dirichlet(natural_gradient_on_backprop(tf.math.softplus(t_params)))\n",
    "            else:\n",
    "                t_post = tfd.Dirichlet(tf.math.softplus(t_params))\n",
    "            t_sample = t_post.sample()\n",
    "\n",
    "            prob_mat = calculate_doc_probs3(d_sample, t_sample)\n",
    "            lp = tf.math.log(tf.gather(prob_mat, w, axis=1, batch_dims=1))\n",
    "            sum_lp = tf.reduce_sum(c * lp, axis = 1)\n",
    "            kl = tfd.kl_divergence(d_post, d_prior)\n",
    "\n",
    "            loss = tf.reduce_mean(-sum_lp + kl) * padded_words.shape[0] # first take mean, then replicate it D times\n",
    "            loss += tf.reduce_sum(tfd.kl_divergence(t_post, t_prior)) \n",
    "            loss /= scale\n",
    "\n",
    "        grads = tape.gradient(loss, [t_params, ]+d_encoder.trainable_variables )\n",
    "        opt.apply_gradients(zip(grads, [t_params,]+d_encoder.trainable_variables))\n",
    "        loss_records.append(loss.numpy() * scale)\n",
    "        if verbose:\n",
    "            tqdm_range.set_description(\"-ELBo: {:.2f}\".format(loss.numpy()), refresh = True)\n",
    "    \n",
    "    return loss_records\n",
    "\n"
   ]
  },
  {
   "cell_type": "code",
   "execution_count": 75,
   "metadata": {
    "collapsed": true
   },
   "outputs": [],
   "source": [
    "def train_amortized_lda2(\n",
    "    t_params, \n",
    "    d_encoder,\n",
    "    opt_top = None,\n",
    "    opt_doc = None,\n",
    "    theta_prior = 1.,\n",
    "    beta_prior = 1.,\n",
    "    D = padded_words.shape[0],\n",
    "    scale = 1.,\n",
    "    epochs = 100, \n",
    "    natural_doc = False, \n",
    "    natural_top = False,\n",
    "    batch_size = 64, \n",
    "    verbose = False,\n",
    "):\n",
    "    d_prior = tfd.Dirichlet(tf.ones((t_params.shape[0], )) * theta_prior)\n",
    "    t_prior = tfd.Dirichlet(tf.ones((t_params.shape[1], )) * beta_prior)\n",
    "    \n",
    "    epochs = epochs*(D//batch_size)\n",
    "    if verbose:\n",
    "        tqdm_range = trange(epochs, desc='-ELBo: ', position=0, leave=True)\n",
    "    else:\n",
    "        tqdm_range = range(epochs)\n",
    "    loss_records = []\n",
    "\n",
    "    for e in tqdm_range:\n",
    "        i = ind_sampler.take()\n",
    "        with tf.GradientTape() as tape:\n",
    "            w, c = tf.gather(padded_words, i, axis=0), tf.gather(tf.cast(padded_counts, 'float32'), i, axis=0)\n",
    "            d_logits_i = d_encoder([w, c])\n",
    "            if natural_doc:\n",
    "                d_post = tfd.Dirichlet(natural_gradient_on_backprop(tf.math.softplus(d_logits_i)))\n",
    "            else:\n",
    "                d_post = tfd.Dirichlet(tf.math.softplus(d_logits_i))\n",
    "            d_sample = d_post.sample()\n",
    "            \n",
    "            if natural_top:\n",
    "                t_post = tfd.Dirichlet(natural_gradient_on_backprop(tf.math.softplus(t_params)))\n",
    "            else:\n",
    "                t_post = tfd.Dirichlet(tf.math.softplus(t_params))\n",
    "            t_sample = t_post.sample()\n",
    "\n",
    "            prob_mat = calculate_doc_probs3(d_sample, t_sample)\n",
    "            lp = tf.math.log(tf.gather(prob_mat, w, axis=1, batch_dims=1))\n",
    "            sum_lp = tf.reduce_sum(c * lp, axis = 1)\n",
    "            kl = tfd.kl_divergence(d_post, d_prior)\n",
    "\n",
    "            loss = tf.reduce_mean(-sum_lp + kl) * padded_words.shape[0] # first take mean, then replicate it D times\n",
    "            loss += tf.reduce_sum(tfd.kl_divergence(t_post, t_prior)) \n",
    "            loss /= scale\n",
    "\n",
    "        grads = tape.gradient(loss, [t_params, ]+d_encoder.trainable_variables )\n",
    "        opt_top.apply_gradients(zip(grads[0], [t_params,]))\n",
    "        opt_doc.apply_gradients(zip(grads[1], d_encoder.trainable_variables))\n",
    "        loss_records.append(loss.numpy() * scale)\n",
    "        if verbose:\n",
    "            tqdm_range.set_description(\"-ELBo: {:.2f}\".format(loss.numpy()), refresh = True)\n",
    "    \n",
    "    return loss_records"
   ]
  },
  {
   "cell_type": "code",
   "execution_count": null,
   "metadata": {
    "collapsed": true
   },
   "outputs": [],
   "source": [
    "def train_amortized_lda2(\n",
    "    t_params, \n",
    "    d_encoder,\n",
    "    opt_top = None,\n",
    "    opt_doc = None,\n",
    "    theta_prior = 1.,\n",
    "    beta_prior = 1.,\n",
    "    D = padded_words.shape[0],\n",
    "    scale = 1.,\n",
    "    epochs = 100, \n",
    "    natural_doc = False, \n",
    "    natural_top = False,\n",
    "    batch_size = 64, \n",
    "    verbose = False,\n",
    "):\n",
    "    d_prior = tfd.Dirichlet(tf.ones((t_params.shape[0], )) * theta_prior)\n",
    "    t_prior = tfd.Dirichlet(tf.ones((t_params.shape[1], )) * beta_prior)\n",
    "    \n",
    "    epochs = epochs*(D//batch_size)\n",
    "    if verbose:\n",
    "        tqdm_range = trange(epochs, desc='-ELBo: ', position=0, leave=True)\n",
    "    else:\n",
    "        tqdm_range = range(epochs)\n",
    "    loss_records = []\n",
    "\n",
    "    for e in tqdm_range:\n",
    "        i = ind_sampler.take()\n",
    "        with tf.GradientTape() as tape:\n",
    "            w, c = tf.gather(padded_words, i, axis=0), tf.gather(tf.cast(padded_counts, 'float32'), i, axis=0)\n",
    "            d_logits_i = d_encoder([w, c]) # this we will record\n",
    "            if natural_doc:\n",
    "                d_post = tfd.Dirichlet(natural_gradient_on_backprop(tf.math.softplus(d_logits_i)))\n",
    "            else:\n",
    "                d_post = tfd.Dirichlet(tf.math.softplus(d_logits_i))\n",
    "            d_sample = d_post.sample()\n",
    "            \n",
    "            if natural_top:\n",
    "                t_post = tfd.Dirichlet(natural_gradient_on_backprop(tf.math.softplus(t_params)))\n",
    "            else:\n",
    "                t_post = tfd.Dirichlet(tf.math.softplus(t_params))\n",
    "            t_sample = t_post.sample()\n",
    "\n",
    "            prob_mat = calculate_doc_probs3(d_sample, t_sample)\n",
    "            lp = tf.math.log(tf.gather(prob_mat, w, axis=1, batch_dims=1))\n",
    "            sum_lp = tf.reduce_sum(c * lp, axis = 1)\n",
    "            kl = tfd.kl_divergence(d_post, d_prior)\n",
    "\n",
    "            loss = tf.reduce_mean(-sum_lp + kl) * padded_words.shape[0] # first take mean, then replicate it D times\n",
    "            loss += tf.reduce_sum(tfd.kl_divergence(t_post, t_prior)) \n",
    "            loss /= scale\n",
    "\n",
    "        grads = tape.gradient(loss, [t_params, ]+d_encoder.trainable_variables )\n",
    "        opt_top.apply_gradients(zip(grads[0], [t_params,]))\n",
    "        opt_doc.apply_gradients(zip(grads[1], d_encoder.trainable_variables))\n",
    "        loss_records.append(loss.numpy() * scale)\n",
    "        if verbose:\n",
    "            tqdm_range.set_description(\"-ELBo: {:.2f}\".format(loss.numpy()), refresh = True)\n",
    "    \n",
    "    return loss_records"
   ]
  },
  {
   "cell_type": "code",
   "execution_count": 149,
   "metadata": {
    "collapsed": true
   },
   "outputs": [],
   "source": [
    "?tf.optimizers.SGD"
   ]
  },
  {
   "cell_type": "code",
   "execution_count": 153,
   "metadata": {},
   "outputs": [
    {
     "name": "stderr",
     "output_type": "stream",
     "text": [
      "-ELBo: 8.88: 100%|██████████| 13100/13100 [23:34<00:00,  8.76it/s]\n",
      "-ELBo:   0%|          | 0/13100 [00:00<?, ?it/s]"
     ]
    },
    {
     "name": "stdout",
     "output_type": "stream",
     "text": [
      "1 out of 2 done\n"
     ]
    },
    {
     "name": "stderr",
     "output_type": "stream",
     "text": [
      "-ELBo: 9.64: 100%|██████████| 13100/13100 [23:27<00:00,  9.78it/s]"
     ]
    },
    {
     "name": "stdout",
     "output_type": "stream",
     "text": [
      "2 out of 2 done\n"
     ]
    },
    {
     "name": "stderr",
     "output_type": "stream",
     "text": [
      "\n"
     ]
    }
   ],
   "source": [
    "T = 30\n",
    "D = len(word_list)\n",
    "V = len(word_to_id)\n",
    "\n",
    "num_runs = 1\n",
    "step_sizes = [1e-3, 1e-4, ]\n",
    "batch_sizes = [64, ]\n",
    "optimization_methods = ['ngd', ]\n",
    "epochs = [100,]\n",
    "counter = 0\n",
    "max_counter = len(batch_sizes) * len(optimization_methods) * len(epochs) * len(step_sizes)\n",
    "\n",
    "res = {}\n",
    "\n",
    "for ss in step_sizes:\n",
    "    for bs in batch_sizes:\n",
    "        for om in optimization_methods:\n",
    "            for e in epochs:\n",
    "                key = \"{}/batch_{}epochs_{}_{}\".format(bs, e, ss, om)\n",
    "                res[key] = []\n",
    "\n",
    "                for _ in tqdm(range(num_runs)):\n",
    "                    ind_sampler = sampler_indices(padded_words.shape[0], batch_size = bs)\n",
    "                    d_encoder = make_encoder(3, 128, T, len(word_to_id), padded_words.shape[1])\n",
    "                    t_p = tf.Variable(tf.initializers.GlorotNormal()((T, V)))\n",
    "                    if om == 'ngd':\n",
    "                        opt = tf.optimizers.SGD(ss, clipvalue = ss*10.)\n",
    "                        loss_rec = train_amortized_lda(t_p, d_encoder, opt, epochs = e, natural = True, batch_size = bs, verbose = True, scale = 1000000.)\n",
    "                    elif om == 'adam':\n",
    "                        opt = tf.optimizers.Adam(ss)\n",
    "                        loss_rec = train_amortized_lda(t_p, d_encoder, opt, epochs = e, natural = False, batch_size = bs, verbose = True, scale = 1000.)\n",
    "                    elif om == 'sgd':\n",
    "                        opt = tf.optimizers.SGD(ss)\n",
    "                        loss_rec = train_amortized_lda(t_p, d_encoder, opt, epochs = e, natural = False, batch_size = bs, verbose = True, scale = 1000.)\n",
    "                    elif om == 'rms_prop':\n",
    "                        opt = tf.optimizers.RMSprop(ss)\n",
    "                        loss_rec = train_amortized_lda(t_p, d_encoder, opt, epochs = e, natural = False, batch_size = bs, verbose = True, scale = 1000.)\n",
    "\n",
    "                    top_word_rec = get_top_words_per_topic2(t_p.numpy(), top_k=10)\n",
    "                    kl_div_res = tfd.kl_divergence(tfd.Dirichlet(tf.math.softplus(t_p)), tfd.Dirichlet(tf.ones((t_p.shape[1], )) * 1.)) \n",
    "                    res[key].append({'loss': loss_rec,\n",
    "                                     'top_words': top_word_rec,\n",
    "                                     'kl_divs': kl_div_res.numpy()})       \n",
    "                counter += 1\n",
    "                print(\"{} out of {} done\".format(counter, max_counter))"
   ]
  },
  {
   "cell_type": "code",
   "execution_count": 152,
   "metadata": {},
   "outputs": [],
   "source": [
    "top_word_rec = get_top_words_per_topic2(t_p.numpy(), top_k=10)\n",
    "kl_div_res = tfd.kl_divergence(tfd.Dirichlet(tf.math.softplus(t_p)), tfd.Dirichlet(tf.ones((t_p.shape[1], )) * 1.)) \n",
    "res[key].append({'loss': loss_rec,\n",
    "                 'top_words': top_word_rec,\n",
    "                 'kl_divs': kl_div_res.numpy()})  "
   ]
  },
  {
   "cell_type": "code",
   "execution_count": 23,
   "metadata": {
    "collapsed": true
   },
   "outputs": [],
   "source": [
    "def calculate_unique_words(list_of_list):\n",
    "    res_set = set({})\n",
    "    for l in list_of_list:\n",
    "        res_set = res_set.union(set(l))\n",
    "\n",
    "    return res_set\n",
    "\n",
    "def calculate_per_epoch_loss(loss_list, num_per_epoch):\n",
    "    return np.add.reduceat(loss_list, np.arange(0, len(loss_list), num_per_epoch))/num_per_epoch\n",
    "\n",
    "def plot_results(results):\n",
    "    plt.figure(figsize=(12, 10))\n",
    "    for key in results:\n",
    "        if results[key] != []:\n",
    "            print(\"================= {} =================\".format(key))\n",
    "            if key[:2] == '64':\n",
    "                num_per_epoch = padded_words.shape[0]//64\n",
    "            elif key[:3] == '128':\n",
    "                num_per_epoch = padded_words.shape[0]//128\n",
    "\n",
    "            res_key = results[key]\n",
    "\n",
    "            kl_divs_key = [_r['kl_divs'] for _r in res_key]\n",
    "            uniq_key = [calculate_unique_words(_r['top_words']) for _r in res_key]\n",
    "            loss_key = [_r['loss'] for _r in res_key]\n",
    "\n",
    "            kl_mean = [np.mean(kl) for kl in kl_divs_key]\n",
    "            kl_std = [np.std(kl) for kl in kl_divs_key]\n",
    "            u_mean = np.mean([len(u) for u in uniq_key])\n",
    "            u_std = np.std([len(u) for u in uniq_key])\n",
    "            epoch_loss_key = [calculate_per_epoch_loss(l, num_per_epoch) for l in loss_key]\n",
    "            l_mean = np.array(epoch_loss_key).mean(axis = 0)\n",
    "            l_std = np.array(epoch_loss_key).std(axis = 0)\n",
    "            last_epoch_loss_key = [l[-1] for l in epoch_loss_key]\n",
    "\n",
    "            print(\"kl means: {}, \\n kl stdevs: {}\".format(kl_mean, kl_std))\n",
    "            print(\"mean kl means: {:.2f} +/- {:.2f}\".format(np.mean(kl_mean), np.std(kl_mean)))\n",
    "            print(\"number of unique words {:.2f} +/- {:.2f}\".format(u_mean, u_std))\n",
    "            print(\"last epoch loss (by 1000000): {:.2f} +/- {:.2f}\".format(np.mean(last_epoch_loss_key)/1000000, np.std(last_epoch_loss_key)/1000000))\n",
    "            l_s = key.split('_')\n",
    "            label = ', '.join([l_s[0], l_s[2]]) if len(l_s) == 3 else ', '.join([l_s[0], '_'.join([l_s[2], l_s[3]])])\n",
    "            plt.errorbar(np.arange(100), l_mean, yerr=l_std, label = label)\n",
    "    \n",
    "    plt.legend()\n",
    "    plt.title(\"losses for different optimization methods, $\\pm 1$ standard error error bar\")\n",
    "    plt.grid()\n",
    "    plt.show()"
   ]
  },
  {
   "cell_type": "code",
   "execution_count": 54,
   "metadata": {},
   "outputs": [
    {
     "name": "stderr",
     "output_type": "stream",
     "text": [
      "-ELBo: 10.26: 100%|██████████| 13100/13100 [23:37<00:00,  9.36it/s]\n",
      "-ELBo: 8.89:   0%|          | 1/13100 [00:00<32:07,  6.80it/s]"
     ]
    },
    {
     "name": "stdout",
     "output_type": "stream",
     "text": [
      "1 out of 3 done\n"
     ]
    },
    {
     "name": "stderr",
     "output_type": "stream",
     "text": [
      "-ELBo: 8.49: 100%|██████████| 13100/13100 [23:52<00:00,  9.42it/s]\n",
      "-ELBo: 9.91:   0%|          | 1/13100 [00:00<31:02,  7.03it/s]"
     ]
    },
    {
     "name": "stdout",
     "output_type": "stream",
     "text": [
      "2 out of 3 done\n"
     ]
    },
    {
     "name": "stderr",
     "output_type": "stream",
     "text": [
      "-ELBo: 10.25: 100%|██████████| 13100/13100 [23:46<00:00,  9.31it/s]"
     ]
    },
    {
     "name": "stdout",
     "output_type": "stream",
     "text": [
      "3 out of 3 done\n"
     ]
    },
    {
     "name": "stderr",
     "output_type": "stream",
     "text": [
      "\n"
     ]
    }
   ],
   "source": [
    "T = 30\n",
    "D = len(word_list)\n",
    "V = len(word_to_id)\n",
    "\n",
    "num_runs = 1\n",
    "step_sizes = [1e-3, 1e-4, 1e-5]\n",
    "batch_sizes = [64, ]\n",
    "optimization_methods = ['ngd',]\n",
    "epochs = [100,]\n",
    "counter = 0\n",
    "max_counter = len(batch_sizes) * len(optimization_methods) * len(epochs) * len(step_sizes)\n",
    "\n",
    "res = {}\n",
    "\n",
    "for ss in step_sizes:\n",
    "    for bs in batch_sizes:\n",
    "        for om in optimization_methods:\n",
    "            for e in epochs:\n",
    "                key = \"{}/batch_{}epochs_{}_{}\".format(bs, e, ss, om)\n",
    "                res[key] = []\n",
    "\n",
    "                for _ in tqdm(range(num_runs)):\n",
    "                    ind_sampler = sampler_indices(padded_words.shape[0], batch_size = bs)\n",
    "                    d_encoder = make_encoder(3, 128, T, len(word_to_id), padded_words.shape[1])\n",
    "                    t_p = tf.Variable(tf.initializers.GlorotNormal()((T, V)))\n",
    "                    if om == 'ngd':\n",
    "                        opt = tf.optimizers.SGD(ss)\n",
    "                        loss_rec = train_amortized_lda(t_p, d_encoder, opt, epochs = e, natural = True, batch_size = bs, verbose = True, scale = 1000000.)\n",
    "                    elif om == 'adam':\n",
    "                        opt = tf.optimizers.Adam(ss)\n",
    "                        loss_rec = train_amortized_lda(t_p, d_encoder, opt, epochs = e, natural = False, batch_size = bs, verbose = True, scale = 1000.)\n",
    "                    elif om == 'sgd':\n",
    "                        opt = tf.optimizers.SGD(ss)\n",
    "                        loss_rec = train_amortized_lda(t_p, d_encoder, opt, epochs = e, natural = False, batch_size = bs, verbose = True, scale = 1000.)\n",
    "                    elif om == 'rms_prop':\n",
    "                        opt = tf.optimizers.RMSprop(ss)\n",
    "                        loss_rec = train_amortized_lda(t_p, d_encoder, opt, epochs = e, natural = False, batch_size = bs, verbose = True, scale = 1000.)\n",
    "\n",
    "                    top_word_rec = get_top_words_per_topic2(t_p.numpy(), top_k=10)\n",
    "                    kl_div_res = tfd.kl_divergence(tfd.Dirichlet(tf.math.softplus(t_p)), tfd.Dirichlet(tf.ones((t_p.shape[1], )) * 1.)) \n",
    "                    res[key].append({'loss': loss_rec,\n",
    "                                     'top_words': top_word_rec,\n",
    "                                     'kl_divs': kl_div_res.numpy()})       \n",
    "                counter += 1\n",
    "                print(\"{} out of {} done\".format(counter, max_counter))"
   ]
  },
  {
   "cell_type": "code",
   "execution_count": 55,
   "metadata": {},
   "outputs": [
    {
     "name": "stdout",
     "output_type": "stream",
     "text": [
      "================= 64/batch_100epochs_0.001_ngd =================\n",
      "kl means: [156.02898], \n",
      " kl stdevs: [0.22514376]\n",
      "mean kl means: 156.03 +/- 0.00\n",
      "number of unique words 287.00 +/- 0.00\n",
      "last epoch loss (by 1000000): 9.85 +/- 0.00\n",
      "================= 64/batch_100epochs_0.0001_ngd =================\n",
      "kl means: [155.94362], \n",
      " kl stdevs: [0.3601313]\n",
      "mean kl means: 155.94 +/- 0.00\n",
      "number of unique words 288.00 +/- 0.00\n",
      "last epoch loss (by 1000000): 9.90 +/- 0.00\n",
      "================= 64/batch_100epochs_1e-05_ngd =================\n",
      "kl means: [155.9418], \n",
      " kl stdevs: [0.2995852]\n",
      "mean kl means: 155.94 +/- 0.00\n",
      "number of unique words 282.00 +/- 0.00\n",
      "last epoch loss (by 1000000): 9.88 +/- 0.00\n"
     ]
    },
    {
     "data": {
      "image/png": "[encoded data removed]",
      "text/plain": [
       "<matplotlib.figure.Figure at 0x7fc141144e80>"
      ]
     },
     "metadata": {},
     "output_type": "display_data"
    }
   ],
   "source": [
    "plot_results(res)"
   ]
  },
  {
   "cell_type": "code",
   "execution_count": 63,
   "metadata": {},
   "outputs": [
    {
     "data": {
      "text/plain": [
       "[['survey',\n",
       "  'rookie',\n",
       "  'definition',\n",
       "  'quickly',\n",
       "  'potentially',\n",
       "  'buy',\n",
       "  'costly',\n",
       "  'actually',\n",
       "  'obviously',\n",
       "  'return'],\n",
       " ['fair',\n",
       "  'union',\n",
       "  'national',\n",
       "  'short',\n",
       "  'actress',\n",
       "  'print',\n",
       "  'exceed',\n",
       "  'concrete',\n",
       "  'monitor',\n",
       "  'dealer'],\n",
       " ['campaign',\n",
       "  'dangerous',\n",
       "  'collective',\n",
       "  'lover',\n",
       "  'psychological',\n",
       "  'regret',\n",
       "  'affair',\n",
       "  'perform',\n",
       "  'discuss',\n",
       "  'anti'],\n",
       " ['visit',\n",
       "  'absolutely',\n",
       "  'brothers',\n",
       "  'selection',\n",
       "  'factor',\n",
       "  'slip',\n",
       "  'sun',\n",
       "  'cultural',\n",
       "  'writer',\n",
       "  'solution'],\n",
       " ['lecture',\n",
       "  'appoint',\n",
       "  'nice',\n",
       "  'careful',\n",
       "  'perfect',\n",
       "  'stun',\n",
       "  'deck',\n",
       "  'basketball',\n",
       "  'combination',\n",
       "  'squeeze'],\n",
       " ['gallery',\n",
       "  'aug',\n",
       "  'accompany',\n",
       "  'gov',\n",
       "  'tech',\n",
       "  'narrative',\n",
       "  'line',\n",
       "  'fighting',\n",
       "  'uncertain',\n",
       "  'select'],\n",
       " ['nearby',\n",
       "  'compound',\n",
       "  'rural',\n",
       "  'recession',\n",
       "  'jews',\n",
       "  'spanish',\n",
       "  'entitle',\n",
       "  'conflict',\n",
       "  'organizer',\n",
       "  'recent'],\n",
       " ['faculty',\n",
       "  'helicopter',\n",
       "  'turn',\n",
       "  'comprehensive',\n",
       "  'plane',\n",
       "  'small',\n",
       "  'update',\n",
       "  'slip',\n",
       "  'heat',\n",
       "  'emergency'],\n",
       " ['heart',\n",
       "  'journal',\n",
       "  'lean',\n",
       "  'attribute',\n",
       "  'narrow',\n",
       "  'opening',\n",
       "  'installation',\n",
       "  'subtle',\n",
       "  'introduce',\n",
       "  'practical'],\n",
       " ['negotiator',\n",
       "  'limit',\n",
       "  'residential',\n",
       "  'refuse',\n",
       "  'legislator',\n",
       "  'barely',\n",
       "  'eventually',\n",
       "  'investor',\n",
       "  'shoe',\n",
       "  'win'],\n",
       " ['walk',\n",
       "  'exit',\n",
       "  'curb',\n",
       "  'presence',\n",
       "  'treat',\n",
       "  'count',\n",
       "  'abroad',\n",
       "  'sole',\n",
       "  'establishment',\n",
       "  'writing'],\n",
       " ['prospective',\n",
       "  'sweep',\n",
       "  'gov',\n",
       "  'vote',\n",
       "  'airline',\n",
       "  'push',\n",
       "  'eventually',\n",
       "  'quarterback',\n",
       "  'musician',\n",
       "  'privately'],\n",
       " ['bride',\n",
       "  'pain',\n",
       "  'government',\n",
       "  'singer',\n",
       "  'fantasy',\n",
       "  'release',\n",
       "  'spirit',\n",
       "  'delay',\n",
       "  'chase',\n",
       "  'senior'],\n",
       " ['broadcast',\n",
       "  'opposition',\n",
       "  'furniture',\n",
       "  'complaint',\n",
       "  'handle',\n",
       "  'accent',\n",
       "  'sauce',\n",
       "  'graduate',\n",
       "  'helicopter',\n",
       "  'chain'],\n",
       " ['family',\n",
       "  'harder',\n",
       "  'state',\n",
       "  'proposal',\n",
       "  'making',\n",
       "  'original',\n",
       "  'distant',\n",
       "  'floor',\n",
       "  'deep',\n",
       "  'ship'],\n",
       " ['early',\n",
       "  'substantial',\n",
       "  'floor',\n",
       "  'golden',\n",
       "  'register',\n",
       "  'diplomatic',\n",
       "  'recommendation',\n",
       "  'shoe',\n",
       "  'difference',\n",
       "  'photo'],\n",
       " ['carrier',\n",
       "  'notably',\n",
       "  'amendment',\n",
       "  'entitle',\n",
       "  'picture',\n",
       "  'study',\n",
       "  'rental',\n",
       "  'incentive',\n",
       "  'soviet',\n",
       "  'psychological'],\n",
       " ['calculate',\n",
       "  'institution',\n",
       "  'debate',\n",
       "  'faculty',\n",
       "  'discuss',\n",
       "  'object',\n",
       "  'wisdom',\n",
       "  'vocal',\n",
       "  'session',\n",
       "  'commission'],\n",
       " ['blame',\n",
       "  'stream',\n",
       "  'date',\n",
       "  'american',\n",
       "  'version',\n",
       "  'plant',\n",
       "  'duck',\n",
       "  'flow',\n",
       "  'special',\n",
       "  'bury'],\n",
       " ['anonymity',\n",
       "  'employee',\n",
       "  'win',\n",
       "  'restore',\n",
       "  'carefully',\n",
       "  'grab',\n",
       "  'occasion',\n",
       "  'couple',\n",
       "  'draft',\n",
       "  'worker'],\n",
       " ['deal',\n",
       "  'wooden',\n",
       "  'difficult',\n",
       "  'post',\n",
       "  'record',\n",
       "  'house',\n",
       "  'nations',\n",
       "  'two',\n",
       "  'looking',\n",
       "  'money'],\n",
       " ['environmental',\n",
       "  'piece',\n",
       "  'skeptical',\n",
       "  'insist',\n",
       "  'lobby',\n",
       "  'owe',\n",
       "  'intent',\n",
       "  'establish',\n",
       "  'strike',\n",
       "  'brick'],\n",
       " ['cheese',\n",
       "  'relief',\n",
       "  'beneath',\n",
       "  'based',\n",
       "  'confront',\n",
       "  'innocent',\n",
       "  'violent',\n",
       "  'fix',\n",
       "  'expense',\n",
       "  'dump'],\n",
       " ['code',\n",
       "  'circuit',\n",
       "  'minimum',\n",
       "  'form',\n",
       "  'shed',\n",
       "  'short',\n",
       "  'highlight',\n",
       "  'outlet',\n",
       "  'unit',\n",
       "  'weak'],\n",
       " ['touchdown',\n",
       "  'platform',\n",
       "  'couple',\n",
       "  'edit',\n",
       "  'homeless',\n",
       "  'administrative',\n",
       "  'recipient',\n",
       "  'milk',\n",
       "  'report',\n",
       "  'black'],\n",
       " ['confident',\n",
       "  'administrator',\n",
       "  'truth',\n",
       "  'fiscal',\n",
       "  'enormous',\n",
       "  'online',\n",
       "  'rental',\n",
       "  'loose',\n",
       "  'coverage',\n",
       "  'rough'],\n",
       " ['cool',\n",
       "  'sidewalk',\n",
       "  'extensive',\n",
       "  'army',\n",
       "  'round',\n",
       "  'indicate',\n",
       "  'belt',\n",
       "  'path',\n",
       "  'critic',\n",
       "  'blend'],\n",
       " ['belief',\n",
       "  'hair',\n",
       "  'facility',\n",
       "  'intention',\n",
       "  'gas',\n",
       "  'credibility',\n",
       "  'radical',\n",
       "  'annual',\n",
       "  'limit',\n",
       "  'anniversary'],\n",
       " ['deny',\n",
       "  'sky',\n",
       "  'barrier',\n",
       "  'giant',\n",
       "  'considerable',\n",
       "  'understanding',\n",
       "  'breast',\n",
       "  'solution',\n",
       "  'selection',\n",
       "  'digital'],\n",
       " ['demonstrate',\n",
       "  'fly',\n",
       "  'interesting',\n",
       "  'rebound',\n",
       "  'anniversary',\n",
       "  'express',\n",
       "  'troubled',\n",
       "  'lie',\n",
       "  'dress',\n",
       "  'scandal']]"
      ]
     },
     "execution_count": 63,
     "metadata": {},
     "output_type": "execute_result"
    }
   ],
   "source": [
    "res['64/batch_100epochs_1e-05_ngd'][0]['top_words']"
   ]
  },
  {
   "cell_type": "code",
   "execution_count": 62,
   "metadata": {},
   "outputs": [
    {
     "data": {
      "text/plain": [
       "dict_keys(['64/batch_100epochs_0.001_ngd', '64/batch_100epochs_0.0001_ngd', '64/batch_100epochs_1e-05_ngd'])"
      ]
     },
     "execution_count": 62,
     "metadata": {},
     "output_type": "execute_result"
    }
   ],
   "source": [
    "res.keys()"
   ]
  },
  {
   "cell_type": "markdown",
   "metadata": {},
   "source": [
    "Intercepting the gradient"
   ]
  },
  {
   "cell_type": "code",
   "execution_count": 146,
   "metadata": {
    "collapsed": true
   },
   "outputs": [],
   "source": [
    "@tf.custom_gradient\n",
    "def forward_identity_backward_ones(a):\n",
    "    def grad(da):\n",
    "        da *= tf.constant([[0,0,0,1],\n",
    "                           [0,0,0,0],\n",
    "                           [1,0,0,0]], 'float32')\n",
    "        return da\n",
    "    return tf.identity(a), grad"
   ]
  },
  {
   "cell_type": "code",
   "execution_count": 147,
   "metadata": {},
   "outputs": [],
   "source": [
    "base_variable = tf.Variable(tf.initializers.Zeros()((3,4)))\n",
    "\n",
    "with tf.GradientTape() as tape:\n",
    "    intermediate_tensor = tf.math.softplus(base_variable)\n",
    "    end_tensor = tf.reduce_mean(forward_identity_backward_ones(intermediate_tensor))\n",
    "    \n",
    "grads = tape.gradient(end_tensor, [base_variable, intermediate_tensor])"
   ]
  },
  {
   "cell_type": "code",
   "execution_count": 148,
   "metadata": {},
   "outputs": [
    {
     "data": {
      "text/plain": [
       "[<tf.Tensor: shape=(3, 4), dtype=float32, numpy=\n",
       " array([[0.        , 0.        , 0.        , 0.04166667],\n",
       "        [0.        , 0.        , 0.        , 0.        ],\n",
       "        [0.04166667, 0.        , 0.        , 0.        ]], dtype=float32)>,\n",
       " <tf.Tensor: shape=(3, 4), dtype=float32, numpy=\n",
       " array([[0.        , 0.        , 0.        , 0.08333334],\n",
       "        [0.        , 0.        , 0.        , 0.        ],\n",
       "        [0.08333334, 0.        , 0.        , 0.        ]], dtype=float32)>]"
      ]
     },
     "execution_count": 148,
     "metadata": {},
     "output_type": "execute_result"
    }
   ],
   "source": [
    "grads"
   ]
  },
  {
   "cell_type": "markdown",
   "metadata": {},
   "source": [
    "so this means we can \n",
    "1. take gradient w.r.t any intermediate tensors\n",
    "2. measure"
   ]
  },
  {
   "cell_type": "code",
   "execution_count": null,
   "metadata": {
    "collapsed": true
   },
   "outputs": [],
   "source": []
  }
 ],
 "metadata": {
  "anaconda-cloud": {},
  "kernelspec": {
   "display_name": "Python 3.9 (tensorflow)\n\n",
   "language": "python",
   "name": "tensorflow"
  },
  "language_info": {
   "codemirror_mode": {
    "name": "ipython",
    "version": 3
   },
   "file_extension": ".py",
   "mimetype": "text/x-python",
   "name": "python",
   "nbconvert_exporter": "python",
   "pygments_lexer": "ipython3",
   "version": "3.9.12"
  },
  "widgets": {
   "state": {
    "46411643097d4b56987b9727c5be4160": {
     "views": [
      {
       "cell_index": 8
      }
     ]
    },
    "4be39d339f4e45a39d23813c82a02798": {
     "views": [
      {
       "cell_index": 8
      }
     ]
    },
    "56b48a98a0ef4f7b9c3fc2ec6b14ef0d": {
     "views": [
      {
       "cell_index": 8
      }
     ]
    },
    "87ae4292f7dd49328d00258941f143aa": {
     "views": [
      {
       "cell_index": 5
      }
     ]
    },
    "8dd95bdf048f4da0868c22f06f86b058": {
     "views": [
      {
       "cell_index": 5
      }
     ]
    },
    "9f49d447d45a424798bc489c88e1e5e9": {
     "views": [
      {
       "cell_index": 8
      }
     ]
    },
    "b0acb26c451c46509a95a00d33a2ad9e": {
     "views": [
      {
       "cell_index": 5
      }
     ]
    },
    "c60fc6846c79441c857ed10748412ffe": {
     "views": [
      {
       "cell_index": 5
      }
     ]
    },
    "c8f3cacff3214500a9aec829affd2bfe": {
     "views": [
      {
       "cell_index": 5
      }
     ]
    },
    "c9c848b7be5441ad9a0ce2c1fd23b311": {
     "views": [
      {
       "cell_index": 8
      }
     ]
    },
    "d90e303c1c774b03b87e27ef16cb2a43": {
     "views": [
      {
       "cell_index": 5
      }
     ]
    }
   },
   "version": "1.2.0"
  }
 },
 "nbformat": 4,
 "nbformat_minor": 1
}
